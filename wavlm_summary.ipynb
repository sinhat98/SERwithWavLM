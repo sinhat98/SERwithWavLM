{
 "cells": [
  {
   "cell_type": "code",
   "execution_count": 1,
   "metadata": {
    "id": "KgVzewPGfmZj"
   },
   "outputs": [],
   "source": [
    "# ライブラリインポート\n",
    "import torch, torchaudio\n",
    "import numpy as np\n",
    "import torch.nn as nn\n",
    "import torch.nn.functional as F\n",
    "import math\n",
    "\n",
    "from torch.utils.data import random_split, DataLoader\n",
    "from torchemotion.datasets.EmodbDataset import EmodbDataset\n",
    "from torchemotion.datasets.IemocapDataset import IemocapDataset\n",
    "from transformers import Wav2Vec2Processor, WavLMModel, WavLMForSequenceClassification, WavLMConfig #, WavLMForCTC\n",
    "from IPython.display import Audio, display\n",
    "from tqdm.notebook import tqdm"
   ]
  },
  {
   "cell_type": "markdown",
   "metadata": {
    "id": "zaWgWuBRnXJR"
   },
   "source": [
    "[Emodb dataset](https://www.kaggle.com/datasets/piyushagni5/berlin-database-of-emotional-speech-emodb)\n",
    "\n",
    "kaggleに上がっていたのでそこから入手"
   ]
  },
  {
   "cell_type": "code",
   "execution_count": 3,
   "metadata": {},
   "outputs": [
    {
     "name": "stdout",
     "output_type": "stream",
     "text": [
      "data\t\t     'SER_ review.pptx'  torchemotion  WavLM.ipynb\n",
      "EmoDB.zip\t     SER_with_cnn.ipynb  utils\t       wavlm_summary.ipynb\n",
      "make_download.ipynb  speechbrain\t wandb\n",
      "SER_model.ipynb      speechbrain.ipynb\t wavlm\n"
     ]
    }
   ],
   "source": [
    "!ls"
   ]
  },
  {
   "cell_type": "code",
   "execution_count": 2,
   "metadata": {},
   "outputs": [
    {
     "data": {
      "text/plain": [
       "{'path': './data/IEMOCAP_full_release/Session1/sentences/wav/Ses01M_script02_2/Ses01M_script02_2_F000.wav',\n",
       " 'waveform': tensor([[-0.0034, -0.0037, -0.0033,  ..., -0.0053, -0.0050, -0.0036]]),\n",
       " 'sample_rate': 16000,\n",
       " 'emotion': 7.0,\n",
       " 'activation': 4.0,\n",
       " 'valence': 2.0,\n",
       " 'dominance': 2.5}"
      ]
     },
     "execution_count": 2,
     "metadata": {},
     "output_type": "execute_result"
    }
   ],
   "source": [
    "# IEMOCAP\n",
    "Iemocap = IemocapDataset(root='./data/IEMOCAP_full_release',\n",
    "                        emotions=['ang', 'hap', 'exc', 'sad', 'fru', 'fea', 'sur', 'neu', 'xxx'])\n",
    "Iemocap[0]"
   ]
  },
  {
   "cell_type": "code",
   "execution_count": null,
   "metadata": {},
   "outputs": [],
   "source": [
    "for i in range(len(Iemocap)):\n",
    "    print(Iemocap[i]['emotion'])"
   ]
  },
  {
   "cell_type": "code",
   "execution_count": 3,
   "metadata": {
    "colab": {
     "base_uri": "https://localhost:8080/"
    },
    "id": "puEpnXMH9Muo",
    "outputId": "f41ea0c2-dbb7-41ee-e293-9cae547750b7"
   },
   "outputs": [
    {
     "data": {
      "text/plain": [
       "{'waveform': tensor([[ 0.0000, -0.0001,  0.0000,  ..., -0.0038, -0.0040, -0.0042]]),\n",
       " 'sample_rate': 16000,\n",
       " 'emotion': 4}"
      ]
     },
     "execution_count": 3,
     "metadata": {},
     "output_type": "execute_result"
    }
   ],
   "source": [
    "emodb = EmodbDataset(root='data/EmoDB/')\n",
    "emodb.__getitem__(0)"
   ]
  },
  {
   "cell_type": "code",
   "execution_count": 3,
   "metadata": {
    "colab": {
     "base_uri": "https://localhost:8080/",
     "height": 265
    },
    "id": "i0NBaUXv94HV",
    "outputId": "737ea95b-f17a-4eb9-ec64-ff85d1dfa726"
   },
   "outputs": [
    {
     "data": {
      "image/png": "[encoded data removed]",
      "text/plain": [
       "<Figure size 432x288 with 2 Axes>"
      ]
     },
     "metadata": {
      "needs_background": "light"
     },
     "output_type": "display_data"
    }
   ],
   "source": [
    "import matplotlib.pyplot as plt\n",
    "import seaborn as sns\n",
    "import pandas as pd\n",
    "\n",
    "num_labels=7\n",
    "emotions = list()\n",
    "lengths = list()\n",
    "for i in range(len(emodb)):\n",
    "    emotions.append(int(emodb.__getitem__(i)['emotion']-1))\n",
    "    lengths.append(emodb.__getitem__(i)['waveform'].size(-1))\n",
    "\n",
    "df_emo = pd.DataFrame(emotions, columns=['emotion'])\n",
    "\n",
    "fig, ax = plt.subplots(2,1)\n",
    "ax1, ax2 = ax\n",
    "sns.countplot(x='emotion', data=df_emo, ax=ax1)\n",
    "ax2.hist(lengths)\n",
    "\n",
    "plt.show()"
   ]
  },
  {
   "cell_type": "code",
   "execution_count": 2,
   "metadata": {},
   "outputs": [],
   "source": [
    "import matplotlib.pyplot as plt\n",
    "import seaborn as sns\n",
    "import pandas as pd\n",
    "\n",
    "def plot_data(dataset):\n",
    "    emotions = list()\n",
    "    lengths = list()\n",
    "    for i in range(len(subset)):\n",
    "        data = subset[i]\n",
    "        emotions.append(int(data['emotion']))\n",
    "        lengths.append(data['waveform'].size(-1))\n",
    "\n",
    "    df_emo = pd.DataFrame(emotions, columns=['emotion'])\n",
    "\n",
    "    fig, ax = plt.subplots(2,1)\n",
    "    ax1, ax2 = ax\n",
    "    sns.countplot(x='emotion', data=df_emo, ax=ax1)\n",
    "    ax2.hist(lengths)\n",
    "\n",
    "    plt.show()\n",
    "    \n",
    "    return emotions, lengths"
   ]
  },
  {
   "cell_type": "code",
   "execution_count": 4,
   "metadata": {},
   "outputs": [
    {
     "name": "stderr",
     "output_type": "stream",
     "text": [
      "/gs/hs1/tga-i/otake.s.ad/SER/torchemotion/datasets/IemocapDataset.py:58: FutureWarning: Could not cast to float32, falling back to object. This behavior is deprecated. In a future version, when a dtype is passed to 'DataFrame', either all columns will be cast to that dtype, or a TypeError will be raised.\n",
      "  self.df = pd.DataFrame(data, columns=['start', 'end', 'file', 'emotion', 'activation', 'valence', 'dominance', 'session', 'script_impro', 'gender', 'utterance'], dtype=np.float32)\n"
     ]
    },
    {
     "data": {
      "image/png": "[encoded data removed]",
      "text/plain": [
       "<Figure size 432x288 with 2 Axes>"
      ]
     },
     "metadata": {
      "needs_background": "light"
     },
     "output_type": "display_data"
    }
   ],
   "source": [
    "import matplotlib.pyplot as plt\n",
    "import seaborn as sns\n",
    "import pandas as pd\n",
    "\n",
    "labels = ['ang', 'hap', 'sad', 'neu']\n",
    "Iemocap = IemocapDataset(root='./data/IEMOCAP_full_release', emotions=labels)\n",
    "num_labels = 4\n",
    "emotions = list()\n",
    "lengths = list()\n",
    "for i in range(len(Iemocap)):\n",
    "    data = Iemocap[i]\n",
    "    '''if data['emotion'] == 7.0:\n",
    "        data['emotion'] = 4.0'''\n",
    "    emotions.append(int(data['emotion']))\n",
    "    lengths.append(data['waveform'].size(-1))\n",
    "\n",
    "df_emo = pd.DataFrame(emotions, columns=['emotion'])\n",
    "\n",
    "fig, ax = plt.subplots(2,1)\n",
    "ax1, ax2 = ax\n",
    "sns.countplot(x='emotion', data=df_emo, ax=ax1)\n",
    "ax2.hist(lengths)\n",
    "\n",
    "plt.show()"
   ]
  },
  {
   "cell_type": "code",
   "execution_count": 16,
   "metadata": {},
   "outputs": [
    {
     "data": {
      "text/plain": [
       "emotion\n",
       "7          1701\n",
       "0          1096\n",
       "3          1060\n",
       "1           592\n",
       "dtype: int64"
      ]
     },
     "execution_count": 16,
     "metadata": {},
     "output_type": "execute_result"
    }
   ],
   "source": [
    "df_emo.value_counts()"
   ]
  },
  {
   "cell_type": "code",
   "execution_count": 14,
   "metadata": {},
   "outputs": [],
   "source": [
    "def filter_length(dataset, labels, lthresh=250000):\n",
    "    emo_count = {}\n",
    "    for l in labels:\n",
    "        emo_count[l] = 0\n",
    "    for i in range(len(dataset)):\n",
    "        data = dataset[i]\n",
    "        if data['waveform'].size(-1) < lthresh:\n",
    "            emo_count[int(data['emotion'])] += 1\n",
    "    return min(list(emo_count.values())), emo_count"
   ]
  },
  {
   "cell_type": "code",
   "execution_count": 15,
   "metadata": {},
   "outputs": [
    {
     "name": "stderr",
     "output_type": "stream",
     "text": [
      "/gs/hs1/tga-i/otake.s.ad/SER/torchemotion/datasets/IemocapDataset.py:58: FutureWarning: Could not cast to float32, falling back to object. This behavior is deprecated. In a future version, when a dtype is passed to 'DataFrame', either all columns will be cast to that dtype, or a TypeError will be raised.\n",
      "  self.df = pd.DataFrame(data, columns=['start', 'end', 'file', 'emotion', 'activation', 'valence', 'dominance', 'session', 'script_impro', 'gender', 'utterance'], dtype=np.float32)\n"
     ]
    },
    {
     "data": {
      "text/plain": [
       "(468, {0: 871, 1: 468, 3: 758, 7: 1444})"
      ]
     },
     "execution_count": 15,
     "metadata": {},
     "output_type": "execute_result"
    }
   ],
   "source": [
    "labels = ['ang', 'hap', 'sad', 'neu']\n",
    "Iemocap = IemocapDataset(root='./data/IEMOCAP_full_release', emotions=labels)\n",
    "filter_length(Iemocap, labels = [0, 1, 3, 7], lthresh=100000)"
   ]
  },
  {
   "cell_type": "code",
   "execution_count": 16,
   "metadata": {},
   "outputs": [
    {
     "data": {
      "text/plain": [
       "0"
      ]
     },
     "execution_count": 16,
     "metadata": {},
     "output_type": "execute_result"
    }
   ],
   "source": [
    "MAX"
   ]
  },
  {
   "cell_type": "code",
   "execution_count": 21,
   "metadata": {},
   "outputs": [
    {
     "name": "stderr",
     "output_type": "stream",
     "text": [
      "/gs/hs1/tga-i/otake.s.ad/SER/torchemotion/datasets/IemocapDataset.py:58: FutureWarning: Could not cast to float32, falling back to object. This behavior is deprecated. In a future version, when a dtype is passed to 'DataFrame', either all columns will be cast to that dtype, or a TypeError will be raised.\n",
      "  self.df = pd.DataFrame(data, columns=['start', 'end', 'file', 'emotion', 'activation', 'valence', 'dominance', 'session', 'script_impro', 'gender', 'utterance'], dtype=np.float32)\n"
     ]
    },
    {
     "name": "stdout",
     "output_type": "stream",
     "text": [
      "7_emotion is reached at MAX\n",
      "3_emotion is reached at MAX\n",
      "0_emotion is reached at MAX\n",
      "1_emotion is reached at MAX\n"
     ]
    },
    {
     "data": {
      "text/plain": [
       "{'path': './data/IEMOCAP_full_release/Session1/sentences/wav/Ses01M_script02_2/Ses01M_script02_2_F000.wav',\n",
       " 'waveform': tensor([[-0.0034, -0.0037, -0.0033,  ..., -0.0053, -0.0050, -0.0036]]),\n",
       " 'sample_rate': 16000,\n",
       " 'emotion': 3.0,\n",
       " 'activation': 4.0,\n",
       " 'valence': 2.0,\n",
       " 'dominance': 2.5}"
      ]
     },
     "execution_count": 21,
     "metadata": {},
     "output_type": "execute_result"
    }
   ],
   "source": [
    "labels = ['ang', 'hap', 'sad', 'neu']\n",
    "Iemocap = IemocapDataset(root='./data/IEMOCAP_full_release', emotions=labels)\n",
    "\n",
    "# lthresh未満の音声の均衡クラスラベルデータセットを作成\n",
    "num_labels = 4\n",
    "lthresh = 100000\n",
    "\n",
    "emo_dict = {}\n",
    "emo_dict_flag = {}\n",
    "labels = [0, 1, 3, 7]\n",
    "MAX, _ = filter_length(Iemocap, labels=[0,1,3,7], lthresh=lthresh)\n",
    "for label in labels:\n",
    "    emo_dict[label] = 0\n",
    "    emo_dict_flag[label] = True\n",
    "subset = []\n",
    "for i in range(len(Iemocap)):\n",
    "    data = Iemocap[i]\n",
    "    emotion = int(data['emotion'])\n",
    "    if data['waveform'].size(-1) < lthresh:\n",
    "        if emo_dict_flag[emotion]:\n",
    "            #pdb.set_trace()\n",
    "            if emotion == 3:\n",
    "                data['emotion'] = 2.0\n",
    "            elif emotion == 7:\n",
    "                data['emotion'] = 3.0\n",
    "            subset.append(data)\n",
    "            emo_dict[emotion] += 1\n",
    "            if emo_dict[emotion] == MAX:\n",
    "                print(f'{emotion}_emotion is reached at MAX')\n",
    "                emo_dict_flag[emotion] = False\n",
    "        if sum(list(emo_dict_flag.values())) == 0:\n",
    "            break\n",
    "subset[0]"
   ]
  },
  {
   "cell_type": "code",
   "execution_count": 20,
   "metadata": {},
   "outputs": [
    {
     "data": {
      "text/plain": [
       "468"
      ]
     },
     "execution_count": 20,
     "metadata": {},
     "output_type": "execute_result"
    }
   ],
   "source": [
    "MAX"
   ]
  },
  {
   "cell_type": "code",
   "execution_count": 22,
   "metadata": {},
   "outputs": [
    {
     "data": {
      "image/png": "[encoded data removed]",
      "text/plain": [
       "<Figure size 432x288 with 2 Axes>"
      ]
     },
     "metadata": {
      "needs_background": "light"
     },
     "output_type": "display_data"
    }
   ],
   "source": [
    "emotions, lengths = plot_data(subset)"
   ]
  },
  {
   "cell_type": "code",
   "execution_count": 5,
   "metadata": {},
   "outputs": [
    {
     "data": {
      "text/plain": [
       "0    592\n",
       "1    592\n",
       "2    592\n",
       "3    592\n",
       "dtype: int64"
      ]
     },
     "execution_count": 5,
     "metadata": {},
     "output_type": "execute_result"
    }
   ],
   "source": [
    "import pandas as pd\n",
    "pd.DataFrame(emotions).value_counts()"
   ]
  },
  {
   "cell_type": "code",
   "execution_count": 2,
   "metadata": {},
   "outputs": [
    {
     "name": "stderr",
     "output_type": "stream",
     "text": [
      "/gs/hs1/tga-i/otake.s.ad/SER/torchemotion/datasets/IemocapDataset.py:58: FutureWarning: Could not cast to float32, falling back to object. This behavior is deprecated. In a future version, when a dtype is passed to 'DataFrame', either all columns will be cast to that dtype, or a TypeError will be raised.\n",
      "  self.df = pd.DataFrame(data, columns=['start', 'end', 'file', 'emotion', 'activation', 'valence', 'dominance', 'session', 'script_impro', 'gender', 'utterance'], dtype=np.float32)\n"
     ]
    }
   ],
   "source": [
    "labels = ['ang', 'hap', 'sad', 'neu']\n",
    "Iemocap = IemocapDataset(root='./data/IEMOCAP_full_release', emotions=labels)"
   ]
  },
  {
   "cell_type": "code",
   "execution_count": 26,
   "metadata": {},
   "outputs": [
    {
     "data": {
      "text/plain": [
       "{'path': './data/IEMOCAP_full_release/Session1/sentences/wav/Ses01M_script02_2/Ses01M_script02_2_F000.wav',\n",
       " 'waveform': tensor([[-0.0034, -0.0037, -0.0033,  ..., -0.0053, -0.0050, -0.0036]]),\n",
       " 'sample_rate': 16000,\n",
       " 'emotion': 7.0,\n",
       " 'activation': 4.0,\n",
       " 'valence': 2.0,\n",
       " 'dominance': 2.5}"
      ]
     },
     "execution_count": 26,
     "metadata": {},
     "output_type": "execute_result"
    }
   ],
   "source": [
    "lengths = torch.tensor(lengths)\n",
    "subset = [Iemocap[i] for i, v in enumerate((lengths<250000).tolist()) if v]\n",
    "subset[0]"
   ]
  },
  {
   "cell_type": "code",
   "execution_count": null,
   "metadata": {},
   "outputs": [],
   "source": []
  },
  {
   "cell_type": "code",
   "execution_count": 21,
   "metadata": {},
   "outputs": [
    {
     "data": {
      "text/plain": [
       "5477"
      ]
     },
     "execution_count": 21,
     "metadata": {},
     "output_type": "execute_result"
    }
   ],
   "source": [
    "len(subset)"
   ]
  },
  {
   "cell_type": "code",
   "execution_count": 56,
   "metadata": {
    "colab": {
     "base_uri": "https://localhost:8080/",
     "height": 265
    },
    "id": "eiQmRq2qaZ75",
    "outputId": "e6edeed9-ab5d-41e7-d785-77c7671c5232"
   },
   "outputs": [
    {
     "data": {
      "image/png": "[encoded data removed]",
      "text/plain": [
       "<Figure size 432x288 with 1 Axes>"
      ]
     },
     "metadata": {
      "needs_background": "light"
     },
     "output_type": "display_data"
    }
   ],
   "source": [
    "# dataset stratified by emotion\n",
    "import matplotlib.pyplot as plt\n",
    "from sklearn.model_selection import train_test_split\n",
    "\n",
    "emotions = [int(emodb.__getitem__(i)['emotion'])-1 for i in range(len(emodb))]\n",
    "train_indices, val_indices = train_test_split(list(range(len(emotions))), test_size=0.2, stratify=emotions, random_state=42)\n",
    "train_dataset = torch.utils.data.Subset(emodb, train_indices)\n",
    "val_dataset = torch.utils.data.Subset(emodb, val_indices)\n",
    "\n",
    "emotions_train = [int(train_dataset.__getitem__(i)['emotion'])-1 for i in range(len(train_dataset))]\n",
    "plt.hist(emotions, label='all')\n",
    "plt.hist(emotions_train, label='train')\n",
    "plt.legend()\n",
    "plt.show()"
   ]
  },
  {
   "cell_type": "code",
   "execution_count": 24,
   "metadata": {
    "colab": {
     "base_uri": "https://localhost:8080/",
     "height": 265
    },
    "id": "eiQmRq2qaZ75",
    "outputId": "e6edeed9-ab5d-41e7-d785-77c7671c5232"
   },
   "outputs": [
    {
     "data": {
      "image/png": "[encoded data removed]",
      "text/plain": [
       "<Figure size 432x288 with 1 Axes>"
      ]
     },
     "metadata": {
      "needs_background": "light"
     },
     "output_type": "display_data"
    }
   ],
   "source": [
    "# dataset stratified by emotion\n",
    "import matplotlib.pyplot as plt\n",
    "from sklearn.model_selection import train_test_split\n",
    "\n",
    "dataset = subset\n",
    "\n",
    "emotions = [int(dataset[i]['emotion']) for i in range(len(dataset))]\n",
    "\n",
    "train_indices, val_indices = train_test_split(list(range(len(dataset))), test_size=0.2, stratify=emotions, random_state=42)\n",
    "train_dataset = torch.utils.data.Subset(dataset, train_indices)\n",
    "val_dataset = torch.utils.data.Subset(dataset, val_indices)\n",
    "\n",
    "emotions_train = [int(train_dataset.__getitem__(i)['emotion']) for i in range(len(train_dataset))]\n",
    "plt.hist(emotions, label='all')\n",
    "plt.hist(emotions_train, label='train')\n",
    "plt.legend()\n",
    "plt.show()"
   ]
  },
  {
   "cell_type": "code",
   "execution_count": 28,
   "metadata": {},
   "outputs": [
    {
     "data": {
      "text/plain": [
       "(array([1041., 1735., 1033.,  637.,  405.,  259.,  146.,  105.,   58.,\n",
       "          58.]),\n",
       " array([  9359.,  33351.,  57343.,  81335., 105327., 129319., 153311.,\n",
       "        177303., 201295., 225287., 249279.]),\n",
       " <BarContainer object of 10 artists>)"
      ]
     },
     "execution_count": 28,
     "metadata": {},
     "output_type": "execute_result"
    },
    {
     "data": {
      "image/png": "[encoded data removed]",
      "text/plain": [
       "<Figure size 432x288 with 1 Axes>"
      ]
     },
     "metadata": {
      "needs_background": "light"
     },
     "output_type": "display_data"
    }
   ],
   "source": [
    "lengths = [subset[i]['waveform'].size(-1) for i in range(len(subset))]\n",
    "plt.hist(lengths)"
   ]
  },
  {
   "cell_type": "code",
   "execution_count": 17,
   "metadata": {
    "colab": {
     "base_uri": "https://localhost:8080/"
    },
    "id": "AxoRdsmvh---",
    "outputId": "c01bd1a1-be0b-401c-d94c-5bfdd1c17bec"
   },
   "outputs": [],
   "source": [
    "processor = Wav2Vec2Processor.from_pretrained(\"patrickvonplaten/wavlm-libri-clean-100h-base-plus\") # 前処理\n",
    "#wavlm = WavLMModel.from_pretrained(\"patrickvonplaten/wavlm-libri-clean-100h-base-plus\") # wavlm"
   ]
  },
  {
   "cell_type": "code",
   "execution_count": 4,
   "metadata": {},
   "outputs": [
    {
     "name": "stderr",
     "output_type": "stream",
     "text": [
      "Some weights of the model checkpoint at patrickvonplaten/wavlm-libri-clean-100h-base-plus were not used when initializing WavLMForSequenceClassification: ['lm_head.weight', 'lm_head.bias']\n",
      "- This IS expected if you are initializing WavLMForSequenceClassification from the checkpoint of a model trained on another task or with another architecture (e.g. initializing a BertForSequenceClassification model from a BertForPreTraining model).\n",
      "- This IS NOT expected if you are initializing WavLMForSequenceClassification from the checkpoint of a model that you expect to be exactly identical (initializing a BertForSequenceClassification model from a BertForSequenceClassification model).\n",
      "Some weights of WavLMForSequenceClassification were not initialized from the model checkpoint at patrickvonplaten/wavlm-libri-clean-100h-base-plus and are newly initialized: ['classifier.weight', 'projector.bias', 'projector.weight', 'classifier.bias']\n",
      "You should probably TRAIN this model on a down-stream task to be able to use it for predictions and inference.\n"
     ]
    }
   ],
   "source": [
    "wavlmcl = WavLMForSequenceClassification.from_pretrained(\"patrickvonplaten/wavlm-libri-clean-100h-base-plus\")"
   ]
  },
  {
   "cell_type": "code",
   "execution_count": null,
   "metadata": {
    "id": "GgcEgxbyzrQ2"
   },
   "outputs": [],
   "source": [
    "# collate_fn\n",
    "# processor = Wav2Vec2Processor.from_pretrained(\"patrickvonplaten/wavlm-libri-clean-100h-base-plus\") # 前処理\n",
    "\n",
    "def pad_sequence(batch):\n",
    "    # ゼロ埋めによりバッチに含まれる全てのテンソルを同じ長さにする\n",
    "\n",
    "    batch = [item.t() for item in batch]\n",
    "    batch = torch.nn.utils.rnn.pad_sequence(batch, batch_first=True, padding_value=0.)\n",
    "    #print(batch.shape)\n",
    "    return batch.permute(0, 2, 1)\n",
    "\n",
    "def collate_fn(batch):\n",
    "\n",
    "\n",
    "    waveforms, targets = [], []\n",
    "    input_data = {}\n",
    "\n",
    "    # リストにまとめ、ラベルをインデックスでエンコードする\n",
    "    for data in batch:\n",
    "        waveforms += [data['waveform']]\n",
    "        targets += [torch.tensor(int(data['emotion'])-1)]\n",
    "\n",
    "    # テンソルのリストをまとめてバッチ化されたテンソルにする\n",
    "    waveforms = pad_sequence(waveforms)\n",
    "    waveforms = [torch.flatten(w) for w in waveforms]\n",
    "    inputs = [processor(waveform, sampling_rate=16000, return_tensors='pt', padding=True) for waveform in waveforms]\n",
    "    input_data['input_values'] = torch.stack([inputs[i]['input_values'].flatten() for i in range(len(batch))])\n",
    "    input_data['attention_mask'] = torch.stack([inputs[i]['attention_mask'].flatten() for i in range(len(batch))])\n",
    "\n",
    "    targets = torch.stack(targets)\n",
    "\n",
    "    return input_data, targets"
   ]
  },
  {
   "cell_type": "code",
   "execution_count": 4,
   "metadata": {
    "id": "c2EugY6Sjc3W"
   },
   "outputs": [],
   "source": [
    "# collate_fn\n",
    "# processor = Wav2Vec2Processor.from_pretrained(\"patrickvonplaten/wavlm-libri-clean-100h-base-plus\") \n",
    "# emodb\n",
    "def collate_fn(batch):\n",
    "    waveforms, targets = [], []\n",
    "    input_data = {}\n",
    "\n",
    "    # リストにまとめ、ラベルをインデックスでエンコードする\n",
    "    for data in batch:\n",
    "        waveforms += [data['waveform'].numpy().flatten()]\n",
    "        targets += [torch.tensor(int(data['emotion'])-1)]\n",
    "\n",
    "    # テンソルのリストをまとめてバッチ化されたテンソルにする\n",
    "    '''waveforms = pad_sequence(waveforms)\n",
    "    waveforms = torch.stack([torch.flatten(w) for w in waveforms])\n",
    "'''\n",
    "    targets = torch.stack(targets)\n",
    "\n",
    "    return waveforms, targets"
   ]
  },
  {
   "cell_type": "code",
   "execution_count": null,
   "metadata": {},
   "outputs": [],
   "source": [
    "# collate_fn\n",
    "# processor = Wav2Vec2Processor.from_pretrained(\"patrickvonplaten/wavlm-libri-clean-100h-base-plus\") \n",
    "# IEMOCAP\n",
    "def collate_fn(batch):\n",
    "    waveforms, targets = [], []\n",
    "    input_data = {}\n",
    "\n",
    "    # リストにまとめ、ラベルをインデックスでエンコードする\n",
    "    for data in batch:\n",
    "        waveforms += [data['waveform'].numpy().flatten()]\n",
    "        emotion = data['emotion']\n",
    "        targets += [torch.tensor(int(data['emotion']))]\n",
    "\n",
    "    targets = torch.stack(targets)\n",
    "\n",
    "    return waveforms, targets"
   ]
  },
  {
   "cell_type": "code",
   "execution_count": 7,
   "metadata": {
    "id": "ryO7sWVxs_Ha"
   },
   "outputs": [],
   "source": [
    "# データローダー\n",
    "from torch.utils.data import DataLoader\n",
    "\n",
    "batch_size=8\n",
    "\n",
    "train_loader = DataLoader(train_dataset, batch_size=batch_size, shuffle=True, collate_fn=collate_fn)\n",
    "test_loader = DataLoader(val_dataset, batch_size=batch_size, shuffle=False, collate_fn=collate_fn)"
   ]
  },
  {
   "cell_type": "code",
   "execution_count": 58,
   "metadata": {
    "id": "ZiADeH8UKOle"
   },
   "outputs": [],
   "source": [
    "data,target = next(iter(train_loader))"
   ]
  },
  {
   "cell_type": "code",
   "execution_count": 59,
   "metadata": {},
   "outputs": [
    {
     "data": {
      "text/plain": [
       "[array([ 3.6621094e-04,  1.8310547e-04, -9.1552734e-05, ...,\n",
       "        -1.1596680e-03, -8.2397461e-04, -3.9672852e-04], dtype=float32),\n",
       " array([-0.01104736, -0.01046753, -0.00863647, ..., -0.0043335 ,\n",
       "        -0.00476074, -0.00500488], dtype=float32),\n",
       " array([-0.0090332 , -0.01098633, -0.01187134, ..., -0.00201416,\n",
       "        -0.00204468, -0.00198364], dtype=float32),\n",
       " array([-0.0010376 , -0.00106812, -0.00189209, ..., -0.0045166 ,\n",
       "        -0.00457764, -0.00466919], dtype=float32),\n",
       " array([-0.00305176, -0.00271606, -0.00256348, ...,  0.00299072,\n",
       "         0.00299072,  0.0027771 ], dtype=float32),\n",
       " array([-0.00073242, -0.0010376 , -0.00131226, ..., -0.00030518,\n",
       "        -0.00042725, -0.00061035], dtype=float32),\n",
       " array([ 0.00247192,  0.00219727,  0.00183105, ...,  0.00210571,\n",
       "        -0.00653076, -0.01220703], dtype=float32),\n",
       " array([ 0.00802612,  0.00726318,  0.00668335, ..., -0.00076294,\n",
       "        -0.00033569, -0.00012207], dtype=float32)]"
      ]
     },
     "execution_count": 59,
     "metadata": {},
     "output_type": "execute_result"
    }
   ],
   "source": [
    "data"
   ]
  },
  {
   "cell_type": "code",
   "execution_count": 61,
   "metadata": {},
   "outputs": [
    {
     "data": {
      "text/plain": [
       "tensor([0., 1., 0., 3., 3., 3., 0., 1.])"
      ]
     },
     "execution_count": 61,
     "metadata": {},
     "output_type": "execute_result"
    }
   ],
   "source": [
    "target"
   ]
  },
  {
   "cell_type": "code",
   "execution_count": 27,
   "metadata": {},
   "outputs": [],
   "source": [
    "wavlm_config = WavLMConfig('patrickvonplaten/wavlm-libri-clean-100h-base-plus')\n",
    "wavlm_config.update({'num_labels':7, 'use_weighted_layer_sum':True})"
   ]
  },
  {
   "cell_type": "code",
   "execution_count": 28,
   "metadata": {},
   "outputs": [
    {
     "data": {
      "text/plain": [
       "7"
      ]
     },
     "execution_count": 28,
     "metadata": {},
     "output_type": "execute_result"
    }
   ],
   "source": [
    "wavlm_config.num_labels"
   ]
  },
  {
   "cell_type": "code",
   "execution_count": 29,
   "metadata": {},
   "outputs": [
    {
     "name": "stderr",
     "output_type": "stream",
     "text": [
      "Some weights of the model checkpoint at patrickvonplaten/wavlm-libri-clean-100h-base-plus were not used when initializing WavLMForSequenceClassification: ['lm_head.weight', 'lm_head.bias']\n",
      "- This IS expected if you are initializing WavLMForSequenceClassification from the checkpoint of a model trained on another task or with another architecture (e.g. initializing a BertForSequenceClassification model from a BertForPreTraining model).\n",
      "- This IS NOT expected if you are initializing WavLMForSequenceClassification from the checkpoint of a model that you expect to be exactly identical (initializing a BertForSequenceClassification model from a BertForSequenceClassification model).\n",
      "Some weights of WavLMForSequenceClassification were not initialized from the model checkpoint at patrickvonplaten/wavlm-libri-clean-100h-base-plus and are newly initialized: ['layer_weights', 'classifier.weight', 'projector.bias', 'projector.weight', 'classifier.bias']\n",
      "You should probably TRAIN this model on a down-stream task to be able to use it for predictions and inference.\n"
     ]
    }
   ],
   "source": [
    "processor = Wav2Vec2Processor.from_pretrained(\"patrickvonplaten/wavlm-libri-clean-100h-base-plus\") # 前処理\n",
    "model = WavLMForSequenceClassification.from_pretrained(\"patrickvonplaten/wavlm-libri-clean-100h-base-plus\", config=wavlm_config)"
   ]
  },
  {
   "cell_type": "code",
   "execution_count": 30,
   "metadata": {},
   "outputs": [
    {
     "data": {
      "text/plain": [
       "True"
      ]
     },
     "execution_count": 30,
     "metadata": {},
     "output_type": "execute_result"
    }
   ],
   "source": [
    "model.config.use_weighted_layer_sum"
   ]
  },
  {
   "cell_type": "code",
   "execution_count": null,
   "metadata": {},
   "outputs": [],
   "source": [
    "inputs = processor(data, sampling_rate=16000, returns_tensor='pt', padding=True)\n",
    "output = model(**input, labels=target)\n",
    "output"
   ]
  },
  {
   "cell_type": "code",
   "execution_count": 32,
   "metadata": {},
   "outputs": [
    {
     "data": {
      "text/plain": [
       "torch.Size([8, 7])"
      ]
     },
     "execution_count": 32,
     "metadata": {},
     "output_type": "execute_result"
    }
   ],
   "source": [
    "output.logits.shape"
   ]
  },
  {
   "cell_type": "code",
   "execution_count": 10,
   "metadata": {
    "colab": {
     "base_uri": "https://localhost:8080/",
     "height": 420
    },
    "id": "DRDOY8xGRGvB",
    "outputId": "033c618b-e0fe-4e56-97e9-203bb67ba55f"
   },
   "outputs": [
    {
     "data": {
      "text/plain": [
       "'device = torch.device(\\'cuda\\' if torch.cuda.is_available() else \\'cpu\\')\\n\\nmodel = SERwithWavLM(\"patrickvonplaten/wavlm-libri-clean-100h-base-plus\")\\n#model = nn.DataParallel(model, list(range(4)))\\nmodel.to(device)'"
      ]
     },
     "execution_count": 10,
     "metadata": {},
     "output_type": "execute_result"
    }
   ],
   "source": [
    "# モデルの定義\n",
    "class SERwithWavLM(nn.Module):\n",
    "    def __init__(self, pretrained_model):\n",
    "        super().__init__()\n",
    "        self.processor =  Wav2Vec2Processor.from_pretrained(pretrained_model)\n",
    "        self.wavlm = WavLMModel.from_pretrained(pretrained_model)\n",
    "        self.fc = nn.Linear(768, 7)\n",
    "    \n",
    "    def forward(self, input):\n",
    "        input = self.processor(input, sampling_rate=16000,  return_tensors='pt', padding=True)\n",
    "        for k in input.keys():\n",
    "            input[k] = input[k].to(device)\n",
    "        wavlm_output = self.wavlm(**input).last_hidden_state\n",
    "        output = self.fc(wavlm_output.mean(dim=1))\n",
    "        return output, wavlm_output\n",
    "\n",
    "\n",
    "'''device = torch.device('cuda' if torch.cuda.is_available() else 'cpu')\n",
    "\n",
    "model = SERwithWavLM(\"patrickvonplaten/wavlm-libri-clean-100h-base-plus\")\n",
    "#model = nn.DataParallel(model, list(range(4)))\n",
    "model.to(device)'''"
   ]
  },
  {
   "cell_type": "code",
   "execution_count": null,
   "metadata": {},
   "outputs": [],
   "source": [
    "device = torch.device('cuda' if torch.cuda.is_available() else 'cpu')\n",
    "\n",
    "model = SERwithWavLM(\"patrickvonplaten/wavlm-libri-clean-100h-base-plus\")\n",
    "model = nn.DataParallel(model, list(range(4)))\n",
    "model.to(device)"
   ]
  },
  {
   "cell_type": "code",
   "execution_count": 18,
   "metadata": {},
   "outputs": [
    {
     "ename": "NameError",
     "evalue": "name 'model' is not defined",
     "output_type": "error",
     "traceback": [
      "\u001b[0;31m---------------------------------------------------------------------------\u001b[0m",
      "\u001b[0;31mNameError\u001b[0m                                 Traceback (most recent call last)",
      "\u001b[0;32m<ipython-input-18-38ac0dc38226>\u001b[0m in \u001b[0;36m<module>\u001b[0;34m\u001b[0m\n\u001b[0;32m----> 1\u001b[0;31m \u001b[0;32mfor\u001b[0m \u001b[0mname\u001b[0m\u001b[0;34m,\u001b[0m \u001b[0mparam\u001b[0m \u001b[0;32min\u001b[0m \u001b[0mmodel\u001b[0m\u001b[0;34m.\u001b[0m\u001b[0mnamed_parameters\u001b[0m\u001b[0;34m(\u001b[0m\u001b[0;34m)\u001b[0m\u001b[0;34m:\u001b[0m\u001b[0;34m\u001b[0m\u001b[0;34m\u001b[0m\u001b[0m\n\u001b[0m\u001b[1;32m      2\u001b[0m     \u001b[0;32mif\u001b[0m \u001b[0;34m'fc'\u001b[0m \u001b[0;32min\u001b[0m \u001b[0mname\u001b[0m\u001b[0;34m:\u001b[0m\u001b[0;34m\u001b[0m\u001b[0;34m\u001b[0m\u001b[0m\n\u001b[1;32m      3\u001b[0m         \u001b[0mprint\u001b[0m\u001b[0;34m(\u001b[0m\u001b[0mname\u001b[0m\u001b[0;34m)\u001b[0m\u001b[0;34m\u001b[0m\u001b[0;34m\u001b[0m\u001b[0m\n\u001b[1;32m      4\u001b[0m         \u001b[0mparam\u001b[0m\u001b[0;34m.\u001b[0m\u001b[0mrequires_grad\u001b[0m \u001b[0;34m=\u001b[0m \u001b[0;32mTrue\u001b[0m\u001b[0;34m\u001b[0m\u001b[0;34m\u001b[0m\u001b[0m\n\u001b[1;32m      5\u001b[0m     \u001b[0;32melse\u001b[0m\u001b[0;34m:\u001b[0m\u001b[0;34m\u001b[0m\u001b[0;34m\u001b[0m\u001b[0m\n",
      "\u001b[0;31mNameError\u001b[0m: name 'model' is not defined"
     ]
    }
   ],
   "source": [
    "for name, param in model.named_parameters():\n",
    "    if 'fc' in name:\n",
    "        print(name)\n",
    "        param.requires_grad = True\n",
    "    else:\n",
    "        param.requires_grad = False"
   ]
  },
  {
   "cell_type": "code",
   "execution_count": 14,
   "metadata": {
    "colab": {
     "base_uri": "https://localhost:8080/"
    },
    "id": "Uct0URSS_BcR",
    "outputId": "595b305c-1e11-41a7-ceb9-4c451884c52a"
   },
   "outputs": [
    {
     "name": "stdout",
     "output_type": "stream",
     "text": [
      "Number of parameters: 5383\n"
     ]
    }
   ],
   "source": [
    "def count_parameters(model):\n",
    "    return sum(p.numel() for p in model.parameters() if p.requires_grad)\n",
    "\n",
    "\n",
    "n = count_parameters(model)\n",
    "print(\"Number of parameters: %s\" % n)"
   ]
  },
  {
   "cell_type": "code",
   "execution_count": null,
   "metadata": {
    "colab": {
     "base_uri": "https://localhost:8080/"
    },
    "id": "rppqxc5Y0Oy8",
    "outputId": "ba7efd7f-3c05-411e-f833-99b8a1bd55a5"
   },
   "outputs": [
    {
     "name": "stderr",
     "output_type": "stream",
     "text": [
      "/usr/local/lib/python3.7/dist-packages/ipykernel_launcher.py:15: UserWarning: Implicit dimension choice for softmax has been deprecated. Change the call to include dim=X as an argument.\n",
      "  from ipykernel import kernelapp as app\n"
     ]
    },
    {
     "data": {
      "text/plain": [
       "torch.Size([8, 7])"
      ]
     },
     "execution_count": 12,
     "metadata": {},
     "output_type": "execute_result"
    }
   ],
   "source": [
    "# model動作確認\n",
    "data, target = next(iter(train_loader))\n",
    "\n",
    "model.eval()\n",
    "with torch.no_grad():\n",
    "    output, hidden_state = model(data)\n",
    "output.shape"
   ]
  },
  {
   "cell_type": "code",
   "execution_count": null,
   "metadata": {
    "colab": {
     "base_uri": "https://localhost:8080/"
    },
    "id": "Zj18CUqG8KZ0",
    "outputId": "6137b110-0f56-48de-c578-8995ab1fd015"
   },
   "outputs": [
    {
     "name": "stdout",
     "output_type": "stream",
     "text": [
      "tensor([0, 6, 3, 2, 6, 4, 6, 1])\n",
      "tensor([4, 4, 4, 4, 4, 4, 4, 4], device='cuda:0')\n"
     ]
    }
   ],
   "source": [
    "print(target)\n",
    "print(output.argmax(-1))"
   ]
  },
  {
   "cell_type": "code",
   "execution_count": null,
   "metadata": {
    "colab": {
     "base_uri": "https://localhost:8080/"
    },
    "id": "53C5xz2tI4P0",
    "outputId": "fbcf85d8-4d25-4f1d-ccb6-919dfdbfa340"
   },
   "outputs": [],
   "source": [
    "print(hidden_state)"
   ]
  },
  {
   "cell_type": "code",
   "execution_count": null,
   "metadata": {
    "colab": {
     "base_uri": "https://localhost:8080/"
    },
    "id": "AjyittnfHAL7",
    "outputId": "fba89eac-1a8f-4e75-e009-2b5971bc09b0"
   },
   "outputs": [
    {
     "data": {
      "text/plain": [
       "[Parameter containing:\n",
       " tensor([[-0.0037,  0.0032,  0.0257,  ..., -0.0358,  0.0293,  0.0250],\n",
       "         [ 0.0314,  0.0140,  0.0354,  ...,  0.0177, -0.0351,  0.0253],\n",
       "         [-0.0082, -0.0273, -0.0351,  ..., -0.0185,  0.0148, -0.0161],\n",
       "         ...,\n",
       "         [-0.0315, -0.0312, -0.0334,  ...,  0.0277,  0.0352,  0.0122],\n",
       "         [-0.0125,  0.0157, -0.0210,  ...,  0.0099,  0.0216,  0.0143],\n",
       "         [ 0.0026, -0.0029, -0.0121,  ...,  0.0315,  0.0253,  0.0318]],\n",
       "        device='cuda:0', requires_grad=True), Parameter containing:\n",
       " tensor([ 0.0194, -0.0339, -0.0003, -0.0106, -0.0273,  0.0057,  0.0162],\n",
       "        device='cuda:0', requires_grad=True)]"
      ]
     },
     "execution_count": 46,
     "metadata": {},
     "output_type": "execute_result"
    }
   ],
   "source": [
    "list(model.fc.parameters())"
   ]
  },
  {
   "cell_type": "markdown",
   "metadata": {
    "id": "aiwzTrnFn8FC"
   },
   "source": [
    "以降は\n",
    "[speech_command tutorial](https://pytorch.org/tutorials/intermediate/speech_command_classification_with_torchaudio_tutorial.html)の流用\n"
   ]
  },
  {
   "cell_type": "code",
   "execution_count": 19,
   "metadata": {
    "id": "oGuTbX3xL9kx"
   },
   "outputs": [],
   "source": [
    "def number_of_correct(pred, target):\n",
    "    # 正解数を数える\n",
    "    return pred.squeeze().eq(target).sum().item()\n",
    "\n",
    "\n",
    "def get_likely_index(tensor):\n",
    "    # バッチの各要素について、最も確率の高いラベルインデックスを得る\n",
    "    return tensor.argmax(dim=-1)\n"
   ]
  },
  {
   "cell_type": "code",
   "execution_count": 33,
   "metadata": {
    "id": "tRu9U6WEBXdV"
   },
   "outputs": [],
   "source": [
    "# 最適化 \n",
    "lr = 0.001\n",
    "optimizer = torch.optim.Adam(model.fc.parameters(), lr=lr, weight_decay=0.0001)\n",
    "scheduler = torch.optim.lr_scheduler.StepLR(optimizer, step_size=20, gamma=0.5) "
   ]
  },
  {
   "cell_type": "code",
   "execution_count": 7,
   "metadata": {
    "colab": {
     "base_uri": "https://localhost:8080/"
    },
    "id": "ih8xU3APc-69",
    "outputId": "acd3d9a2-fd72-4b28-eb8c-b37e63d570e6"
   },
   "outputs": [
    {
     "name": "stderr",
     "output_type": "stream",
     "text": [
      "\u001b[34m\u001b[1mwandb\u001b[0m: Currently logged in as: \u001b[33mshinos\u001b[0m (use `wandb login --relogin` to force relogin)\n"
     ]
    },
    {
     "data": {
      "text/plain": [
       "True"
      ]
     },
     "execution_count": 7,
     "metadata": {},
     "output_type": "execute_result"
    }
   ],
   "source": [
    "import wandb\n",
    "wandb.login()"
   ]
  },
  {
   "cell_type": "markdown",
   "metadata": {
    "id": "HovaDhPUhO5V"
   },
   "source": [
    "wandb example\n",
    "```python\n",
    "# Launch 5 experiments, trying different dropout rates\n",
    "for _ in range(5):\n",
    "    # 🐝 initialise a wandb run\n",
    "    wandb.init(\n",
    "        project=\"pytorch-intro\",\n",
    "        config={\n",
    "            \"epochs\": 10,\n",
    "            \"batch_size\": 128,\n",
    "            \"lr\": 1e-3,\n",
    "            \"dropout\": random.uniform(0.01, 0.80),\n",
    "            })\n",
    "    \n",
    "    # Copy your config \n",
    "    config = wandb.config\n",
    "\n",
    "    # Get the data\n",
    "    train_dl = get_dataloader(is_train=True, batch_size=config.batch_size)\n",
    "    valid_dl = get_dataloader(is_train=False, batch_size=2*config.batch_size)\n",
    "    n_steps_per_epoch = math.ceil(len(train_dl.dataset) / config.batch_size)\n",
    "    \n",
    "    # A simple MLP model\n",
    "    model = get_model(config.dropout)\n",
    "\n",
    "    # Make the loss and optimizer\n",
    "    loss_func = nn.CrossEntropyLoss()\n",
    "    optimizer = torch.optim.Adam(model.parameters(), lr=config.lr)\n",
    "\n",
    "   # Training\n",
    "    example_ct = 0\n",
    "    step_ct = 0\n",
    "    for epoch in tqdm(range(config.epochs)):\n",
    "        model.train()\n",
    "        for step, (images, labels) in enumerate(tqdm(train_dl, leave=False)):\n",
    "            images, labels = images.to(device), labels.to(device)\n",
    "\n",
    "            outputs = model(images)\n",
    "            train_loss = loss_func(outputs, labels)\n",
    "            optimizer.zero_grad()\n",
    "            train_loss.backward()\n",
    "            optimizer.step()\n",
    "            \n",
    "            example_ct += len(images)\n",
    "            metrics = {\"train/train_loss\": train_loss, \n",
    "                       \"train/epoch\": (step + 1 + (n_steps_per_epoch * epoch)) / n_steps_per_epoch, \n",
    "                       \"train/example_ct\": example_ct}\n",
    "            \n",
    "            if step + 1 < n_steps_per_epoch:\n",
    "                # 🐝 Log train metrics to wandb \n",
    "                wandb.log(metrics)\n",
    "                \n",
    "            step_ct += 1\n",
    "\n",
    "        val_loss, accuracy = validate_model(model, valid_dl, loss_func, log_images=(epoch==(config.epochs-1)))\n",
    "\n",
    "        # 🐝 Log train and validation metrics to wandb\n",
    "        val_metrics = {\"val/val_loss\": val_loss, \n",
    "                       \"val/val_accuracy\": accuracy}\n",
    "        wandb.log({**metrics, **val_metrics})\n",
    "        \n",
    "        print(f\"Train Loss: {train_loss:.3f}, Valid Loss: {val_loss:3f}, Accuracy: {accuracy:.2f}\")\n",
    "\n",
    "    # If you had a test set, this is how you could log it as a Summary metric\n",
    "    wandb.summary['test_accuracy'] = 0.8\n",
    "\n",
    "    # 🐝 Close your wandb run \n",
    "    wandb.finish()\n",
    "```"
   ]
  },
  {
   "cell_type": "markdown",
   "metadata": {
    "id": "5QJkL_xA7e4-"
   },
   "source": [
    "```python\n",
    "def number_of_correct(pred, target):\n",
    "    # 正解数を数える\n",
    "    return pred.squeeze().eq(target).sum().item()\n",
    "\n",
    "\n",
    "def get_likely_index(tensor):\n",
    "    # バッチの各要素について、最も確率の高いラベルインデックスを得る\n",
    "    return tensor.argmax(dim=-1)\n",
    "\n",
    "\n",
    "# train\n",
    "def train(model, epoch, log_interval):\n",
    "    model.train()\n",
    "    correct = 0\n",
    "\n",
    "    for step, (data, target) in enumerate(train_loader):\n",
    "        #print(data)\n",
    "        target = target.to(device)\n",
    "\n",
    "        # モデルへ入力する\n",
    "        output,_ = model(data)\n",
    "\n",
    "        # クロスエントロピー誤差\n",
    "        loss = F.cross_entropy(output, target, ignore_index=0)\n",
    "        \n",
    "        pred = get_likely_index(output)\n",
    "        correct += number_of_correct(pred, target)\n",
    "        \n",
    "        optimizer.zero_grad()\n",
    "        loss.backward()\n",
    "        optimizer.step()\n",
    "\n",
    "        metrics = {\"train/loss\": loss.item()/len(data)}\n",
    "        #if step + 1 < n_steps_per_epoch:\n",
    "        wandb.log(metrics)\n",
    "        #print(list(model.parameters())[0][0])\n",
    "        # 訓練の統計値をプリントする\n",
    "        if step % log_interval == 0:\n",
    "            print(f\"Train Epoch: {epoch} [{step * len(target)}/{len(train_loader.dataset)} ({100. * step / len(train_loader):.0f}%)]\\tLoss: {loss.item()/len(data):.6f}\")\n",
    "\n",
    "        # プログレスバー更新\n",
    "        pbar.update(pbar_update)\n",
    "        # 損失を記録する\n",
    "        losses.append(loss.item()/len(data))\n",
    "    print(f\"Accuracy: {correct}/{len(train_loader.dataset)} ({100. * correct / len(train_loader.dataset):.0f}%)\")\n",
    "    metrics = {'train/epoch_loss': sum(losses)/len(losses)}\n",
    "    return metrics\n",
    "```"
   ]
  },
  {
   "cell_type": "markdown",
   "metadata": {
    "id": "9Hb6jscV7e4_"
   },
   "source": [
    "```python\n",
    "def test(model, epoch):\n",
    "    model.eval()\n",
    "    correct = 0\n",
    "    example_ct = 0\n",
    "    val_loss = 0\n",
    "    for data, target in test_loader:\n",
    "        example_ct += len(data)\n",
    "        target = target.to(device)\n",
    "\n",
    "        # モデルへ入力する\n",
    "        output,_ = model(data)\n",
    "\n",
    "        pred = get_likely_index(output)\n",
    "        val_loss += F.cross_entropy(output, target, ignore_index=0)\n",
    "\n",
    "        print(pred)\n",
    "        correct += number_of_correct(pred, target)\n",
    "\n",
    "        \n",
    "        # プログレスバー更新\n",
    "        pbar.update(pbar_update)\n",
    "    accuracy = 100. * correct / len(test_loader.dataset)\n",
    "    \n",
    "    val_metrics = {\"val/val_loss\": val_loss/example_ct, \n",
    "              \"val/val_accuracy\": accuracy}\n",
    "\n",
    "    print(f\"\\nTest Epoch: {epoch}\\tAccuracy: {correct}/{len(test_loader.dataset)} ({accuracy:.0f}%)\\n\")\n",
    "    \n",
    "    return val_metrics\n",
    "```"
   ]
  },
  {
   "cell_type": "code",
   "execution_count": 17,
   "metadata": {},
   "outputs": [
    {
     "data": {
      "text/plain": [
       "4"
      ]
     },
     "execution_count": 17,
     "metadata": {},
     "output_type": "execute_result"
    }
   ],
   "source": [
    "torch.cuda.device_count()"
   ]
  },
  {
   "cell_type": "markdown",
   "metadata": {
    "colab": {
     "base_uri": "https://localhost:8080/",
     "height": 712,
     "referenced_widgets": [
      "9c25575c795c498dad30ddb60a54992f",
      "d2aad960f4e147c39bbf4e3486ae8abf",
      "7a2585dcff9e46d2b3e429cdfe15251b",
      "344d4d40846c48c5b23d1f2f004a6a2c",
      "16931946ca934132bc47219683486303",
      "96817ccf7f694652a9ee52704bc833df",
      "c2843e7055024ca59738182107150ae3",
      "10bc24d58dd64baf9875951175d53cb7",
      "13593a06989240bd8d2cca1d13d302c7",
      "f605ea8772394995828669527c9e39c7",
      "deb1de98e25f4fb798c9d721e4dcca04"
     ]
    },
    "id": "YLLMfDvu7e4_",
    "outputId": "a628eaa7-f6dc-4b61-e971-1274c29c323a"
   },
   "source": [
    "```python\n",
    "from tqdm.notebook import tqdm\n",
    "import wandb\n",
    "\n",
    "device = torch.device('cuda:0' if torch.cuda.is_available() else 'cpu')\n",
    "\n",
    "wandb.init(\n",
    "    project=\"wavlm_SER_IEMOCAP\",\n",
    "    config={\n",
    "        \"pretrained_model\": 'patrickvonplaten/wavlm-libri-clean-100h-base-plus',\n",
    "        \"epochs\": 20,\n",
    "        \"batch_size\": 8,\n",
    "        \"learning_rate\": 0.0005, \n",
    "        \"lr_scheduler_step\": 20,\n",
    "        \"lr_scheduler_gamma\": 0.5\n",
    "        })\n",
    "config = wandb.config\n",
    "\n",
    "train_loader = DataLoader(train_dataset, batch_size=config[\"batch_size\"], shuffle=True, collate_fn=collate_fn)\n",
    "test_loader = DataLoader(val_dataset, batch_size=config[\"batch_size\"], shuffle=False, collate_fn=collate_fn)\n",
    "\n",
    "model = SERwithWavLM(config[\"pretrained_model\"])\n",
    "model = nn.DataParallel(model, list(range(4)))\n",
    "model.to(device)\n",
    "\n",
    "param_to_update = []\n",
    "param_to_update_name = []\n",
    "for name, param in model.named_parameters():\n",
    "    if 'fc' in name:\n",
    "        print(name)\n",
    "        param.requires_grad = True\n",
    "        param_to_update.append(param)\n",
    "        param_to_update_name.append(name)\n",
    "    else:\n",
    "        param.requires_grad = False\n",
    "        \n",
    "wandb.config.update({\"updated_param_name\": param_to_update_name})\n",
    "optimizer = torch.optim.Adam(param_to_update, lr=config['learning_rate'], weight_decay=0.0001)\n",
    "scheduler = torch.optim.lr_scheduler.StepLR(optimizer, step_size=config[\"lr_scheduler_step\"], gamma=config[\"lr_scheduler_gamma\"]) \n",
    "\n",
    "log_interval = 10\n",
    "n_epoch = config[\"epochs\"]\n",
    "\n",
    "pbar_update = 1 / (len(train_loader) + len(test_loader))\n",
    "losses = []\n",
    "\n",
    "\n",
    "with tqdm(total=n_epoch) as pbar:\n",
    "    for epoch in range(1, n_epoch + 1):\n",
    "        metrics = train(model, epoch, log_interval)\n",
    "        val_metrics = test(model, epoch)\n",
    "        scheduler.step()\n",
    "        wandb.log({**metrics, **val_metrics})\n",
    "\n",
    "# 訓練時の損失がイテレーション数に応じてどう変化するかをプロットする\n",
    "# plt.plot(losses);\n",
    "# plt.title(\"training loss\");\n",
    "```"
   ]
  },
  {
   "cell_type": "code",
   "execution_count": 22,
   "metadata": {},
   "outputs": [],
   "source": [
    "dataloaders_dict = {'train': train_loader, 'val': test_loader}"
   ]
  },
  {
   "cell_type": "code",
   "execution_count": 30,
   "metadata": {},
   "outputs": [
    {
     "name": "stdout",
     "output_type": "stream",
     "text": [
      "54\n",
      "14\n"
     ]
    }
   ],
   "source": [
    "for v in dataloaders_dict.values():\n",
    "    print(len(v))"
   ]
  },
  {
   "cell_type": "code",
   "execution_count": 31,
   "metadata": {},
   "outputs": [
    {
     "data": {
      "text/plain": [
       "68"
      ]
     },
     "execution_count": 31,
     "metadata": {},
     "output_type": "execute_result"
    }
   ],
   "source": [
    "sum([len(v) for v in dataloaders_dict.values()])"
   ]
  },
  {
   "cell_type": "code",
   "execution_count": 54,
   "metadata": {},
   "outputs": [
    {
     "data": {
      "text/plain": [
       "tensor([2, 4, 6, 4, 2, 5, 1, 4])"
      ]
     },
     "execution_count": 54,
     "metadata": {},
     "output_type": "execute_result"
    }
   ],
   "source": [
    "target"
   ]
  },
  {
   "cell_type": "code",
   "execution_count": 63,
   "metadata": {},
   "outputs": [
    {
     "data": {
      "text/plain": [
       "1894"
      ]
     },
     "execution_count": 63,
     "metadata": {},
     "output_type": "execute_result"
    }
   ],
   "source": [
    "len(train_loader.dataset)"
   ]
  },
  {
   "cell_type": "code",
   "execution_count": null,
   "metadata": {},
   "outputs": [],
   "source": [
    "da"
   ]
  },
  {
   "cell_type": "code",
   "execution_count": null,
   "metadata": {},
   "outputs": [],
   "source": [
    "1 / sum([len(v) for v in dataloaders_dict.values()])"
   ]
  },
  {
   "cell_type": "code",
   "execution_count": 25,
   "metadata": {},
   "outputs": [],
   "source": [
    "def train_model(model, dataloaders_dict, optimizer, scheduler, num_epochs, log_interval=10):\n",
    "\n",
    "    '''# GPUが使えるかを確認\n",
    "    device = torch.device(\"cuda:0\" if torch.cuda.is_available() else \"cpu\")\n",
    "    print(\"使用デバイス：\", device)\n",
    "    print('-----start-------')\n",
    "    # ネットワークをGPUへ\n",
    "    model.to(device)'''\n",
    "    \n",
    "    # ネットワークがある程度固定であれば、高速化させる\n",
    "    torch.backends.cudnn.benchmark = True\n",
    "    \n",
    "    log_intervals = 10\n",
    "    pbar_update = 1 / sum([len(v) for v in dataloaders_dict.values()])\n",
    "    \n",
    "    processor = Wav2Vec2Processor.from_pretrained(\"patrickvonplaten/wavlm-libri-clean-100h-base-plus\")\n",
    "    with tqdm(total=num_epochs) as pbar:\n",
    "        # epochのループ\n",
    "        for epoch in range(num_epochs):\n",
    "            # epochごとの訓練と検証のループ\n",
    "            for phase in ['train', 'val']:\n",
    "                if phase == 'train':\n",
    "                    model.train()  # モデルを訓練モードに\n",
    "                else:\n",
    "                    model.eval()   # モデルを検証モードに\n",
    "\n",
    "                epoch_loss = 0.0  # epochの損失和\n",
    "                epoch_corrects = 0  # epochの正解数\n",
    "\n",
    "                # データローダーからミニバッチを取り出すループ\n",
    "                for step, (data, target) in enumerate(dataloaders_dict[phase]):\n",
    "                    # GPUが使えるならGPUにデータを送る\n",
    "                    inputs = processor(data, sampling_rate=16000,  return_tensors='pt', padding=True)\n",
    "                    for k in inputs.keys():\n",
    "                        inputs[k] = inputs[k].to(device)\n",
    "                    target = target.to(device)\n",
    "                    inputs = (inputs, target)\n",
    "                    \n",
    "                    # optimizerを初期化\n",
    "                    optimizer.zero_grad()\n",
    "\n",
    "                    # 順伝搬（forward）計算\n",
    "                    with torch.set_grad_enabled(phase == 'train'):\n",
    "\n",
    "                        # modelに入力\n",
    "                        # outputs, _ = model(inputs, target)\n",
    "                        # loss = F.nll_loss(F.log_softmax(outputs, dim=-1), target)  # 損失を計算 reduction='mean'\n",
    "                        logits, loss = model(inputs)\n",
    "                        preds = torch.argmax(logits, dim=-1)  # ラベルを予測\n",
    "\n",
    "                        # 訓練時はバックプロパゲーション\n",
    "                        if phase == 'train':\n",
    "                            loss.backward()\n",
    "                            optimizer.step()\n",
    "                            if scheduler is not None:\n",
    "                                scheduler.step()\n",
    "                            loss_log = loss.item()\n",
    "                            del loss\n",
    "                            if step % log_interval == 0:\n",
    "                                print(f\"Train Epoch: {epoch} [{step * len(data)}/{len(dataloaders_dict[phase].dataset)} ({100. * step / len(dataloaders_dict[phase]):.0f}%)]\\tLoss: {loss_log:.6f}\")\n",
    "                            wandb.log({'train/loss': loss_log})\n",
    "                            \n",
    "                        else:\n",
    "                            print(preds.to('cpu').detach().numpy())\n",
    "                        # 結果の計算\n",
    "                        epoch_loss += loss_log * len(data)\n",
    "                        # 正解数の合計を更新\n",
    "                        epoch_corrects += preds.squeeze().eq(target).sum().item()\n",
    "                \n",
    "                '''if phase=='train':\n",
    "                    before = scheduler.get_lr()[0]\n",
    "                    scheduler.step()\n",
    "                    after = scheduler.get_lr()[0]\n",
    "                    print(f'\\nsceduler\\n {before} -> {after}')'''\n",
    "                    \n",
    "                # epochごとのlossと正解率\n",
    "                epoch_loss = epoch_loss / len(dataloaders_dict[phase].dataset)\n",
    "                epoch_acc = epoch_corrects / len(dataloaders_dict[phase].dataset)\n",
    "               \n",
    "                metrics = {f'{phase}/epoch_loss': epoch_loss, f'{phase}/acc': epoch_acc}\n",
    "                wandb.log(metrics)\n",
    "                \n",
    "                pbar.update(pbar_update)\n",
    "                print('Epoch {}/{} | {:^5} |  Loss: {:.4f} Acc: {:.4f}'.format(epoch+1, num_epochs,\n",
    "                                                                               phase, epoch_loss, epoch_acc))\n",
    "\n",
    "    return model\n"
   ]
  },
  {
   "cell_type": "code",
   "execution_count": 28,
   "metadata": {
    "id": "QOqOBe_AoQkK"
   },
   "outputs": [
    {
     "name": "stderr",
     "output_type": "stream",
     "text": [
      "\u001b[34m\u001b[1mwandb\u001b[0m: \u001b[33mWARNING\u001b[0m Calling wandb.login() after wandb.init() has no effect.\n"
     ]
    },
    {
     "data": {
      "text/html": [
       "Finishing last run (ID:1lj1yblh) before initializing another..."
      ],
      "text/plain": [
       "<IPython.core.display.HTML object>"
      ]
     },
     "metadata": {},
     "output_type": "display_data"
    },
    {
     "name": "stdout",
     "output_type": "stream",
     "text": [
      "\n"
     ]
    },
    {
     "data": {
      "text/html": [
       "Waiting for W&B process to finish... <strong style=\"color:green\">(success).</strong>"
      ],
      "text/plain": [
       "<IPython.core.display.HTML object>"
      ]
     },
     "metadata": {},
     "output_type": "display_data"
    },
    {
     "data": {
      "application/vnd.jupyter.widget-view+json": {
       "model_id": "",
       "version_major": 2,
       "version_minor": 0
      },
      "text/plain": [
       "VBox(children=(Label(value='0.001 MB of 0.001 MB uploaded (0.000 MB deduped)\\r'), FloatProgress(value=1.0, max…"
      ]
     },
     "metadata": {},
     "output_type": "display_data"
    },
    {
     "data": {
      "text/html": [
       "Synced <strong style=\"color:#cdcd00\">colorful-vortex-79</strong>: <a href=\"https://wandb.ai/shinos/wavlm_SER/runs/1lj1yblh\" target=\"_blank\">https://wandb.ai/shinos/wavlm_SER/runs/1lj1yblh</a><br/>Synced 5 W&B file(s), 0 media file(s), 0 artifact file(s) and 0 other file(s)"
      ],
      "text/plain": [
       "<IPython.core.display.HTML object>"
      ]
     },
     "metadata": {},
     "output_type": "display_data"
    },
    {
     "data": {
      "text/html": [
       "Find logs at: <code>./wandb/run-20220413_094732-1lj1yblh/logs</code>"
      ],
      "text/plain": [
       "<IPython.core.display.HTML object>"
      ]
     },
     "metadata": {},
     "output_type": "display_data"
    },
    {
     "data": {
      "text/html": [
       "Successfully finished last run (ID:1lj1yblh). Initializing new run:<br/>"
      ],
      "text/plain": [
       "<IPython.core.display.HTML object>"
      ]
     },
     "metadata": {},
     "output_type": "display_data"
    },
    {
     "data": {
      "text/html": [
       "Tracking run with wandb version 0.12.14"
      ],
      "text/plain": [
       "<IPython.core.display.HTML object>"
      ]
     },
     "metadata": {},
     "output_type": "display_data"
    },
    {
     "data": {
      "text/html": [
       "Run data is saved locally in <code>/gs/hs1/tga-i/otake.s.ad/SER/wandb/run-20220413_094839-28s1ec2t</code>"
      ],
      "text/plain": [
       "<IPython.core.display.HTML object>"
      ]
     },
     "metadata": {},
     "output_type": "display_data"
    },
    {
     "data": {
      "text/html": [
       "Syncing run <strong><a href=\"https://wandb.ai/shinos/wavlm_SER/runs/28s1ec2t\" target=\"_blank\">resilient-sponge-80</a></strong> to <a href=\"https://wandb.ai/shinos/wavlm_SER\" target=\"_blank\">Weights & Biases</a> (<a href=\"https://wandb.me/run\" target=\"_blank\">docs</a>)<br/>"
      ],
      "text/plain": [
       "<IPython.core.display.HTML object>"
      ]
     },
     "metadata": {},
     "output_type": "display_data"
    },
    {
     "name": "stderr",
     "output_type": "stream",
     "text": [
      "Some weights of the model checkpoint at patrickvonplaten/wavlm-libri-clean-100h-base-plus were not used when initializing WavLMForSequenceClassification: ['lm_head.bias', 'lm_head.weight']\n",
      "- This IS expected if you are initializing WavLMForSequenceClassification from the checkpoint of a model trained on another task or with another architecture (e.g. initializing a BertForSequenceClassification model from a BertForPreTraining model).\n",
      "- This IS NOT expected if you are initializing WavLMForSequenceClassification from the checkpoint of a model that you expect to be exactly identical (initializing a BertForSequenceClassification model from a BertForSequenceClassification model).\n",
      "Some weights of WavLMForSequenceClassification were not initialized from the model checkpoint at patrickvonplaten/wavlm-libri-clean-100h-base-plus and are newly initialized: ['projector.weight', 'classifier.bias', 'classifier.weight', 'projector.bias', 'layer_weights']\n",
      "You should probably TRAIN this model on a down-stream task to be able to use it for predictions and inference.\n"
     ]
    },
    {
     "data": {
      "application/vnd.jupyter.widget-view+json": {
       "model_id": "4e73260f09224ca38fa4e3bdb463e854",
       "version_major": 2,
       "version_minor": 0
      },
      "text/plain": [
       "  0%|          | 0/10 [00:00<?, ?it/s]"
      ]
     },
     "metadata": {},
     "output_type": "display_data"
    },
    {
     "name": "stdout",
     "output_type": "stream",
     "text": [
      "Train Epoch: 0 [0/1497 (0%)]\tLoss: 1.420434\n",
      "Train Epoch: 0 [80/1497 (5%)]\tLoss: 1.219347\n",
      "Train Epoch: 0 [160/1497 (11%)]\tLoss: 1.409039\n",
      "Train Epoch: 0 [240/1497 (16%)]\tLoss: 1.245827\n",
      "Train Epoch: 0 [320/1497 (21%)]\tLoss: 1.375381\n",
      "Train Epoch: 0 [400/1497 (27%)]\tLoss: 1.241039\n",
      "Train Epoch: 0 [480/1497 (32%)]\tLoss: 1.287493\n",
      "Train Epoch: 0 [560/1497 (37%)]\tLoss: 1.272001\n",
      "Train Epoch: 0 [640/1497 (43%)]\tLoss: 1.093808\n",
      "Train Epoch: 0 [720/1497 (48%)]\tLoss: 0.921091\n",
      "Train Epoch: 0 [800/1497 (53%)]\tLoss: 1.511650\n",
      "Train Epoch: 0 [880/1497 (59%)]\tLoss: 1.102845\n",
      "Train Epoch: 0 [960/1497 (64%)]\tLoss: 0.996432\n",
      "Train Epoch: 0 [1040/1497 (69%)]\tLoss: 1.128203\n",
      "Train Epoch: 0 [1120/1497 (74%)]\tLoss: 0.921378\n",
      "Train Epoch: 0 [1200/1497 (80%)]\tLoss: 1.158976\n",
      "Train Epoch: 0 [1280/1497 (85%)]\tLoss: 1.138573\n",
      "Train Epoch: 0 [1360/1497 (90%)]\tLoss: 1.215854\n",
      "Train Epoch: 0 [1440/1497 (96%)]\tLoss: 0.743695\n",
      "Epoch 1/10 | train |  Loss: 1.1594 Acc: 0.4950\n",
      "[2 0 2 2 1 2 1 0]\n",
      "[0 2 1 3 0 2 2 2]\n",
      "[2 2 2 1 1 1 0 0]\n",
      "[3 2 2 2 0 2 0 2]\n",
      "[2 0 3 2 2 1 2 0]\n",
      "[2 0 0 2 2 0 2 2]\n",
      "[2 2 2 2 0 2 0 2]\n",
      "[0 2 2 2 1 2 0 1]\n",
      "[2 2 3 3 2 3 1 3]\n",
      "[2 3 1 0 2 2 3 0]\n",
      "[2 0 3 2 3 2 2 2]\n",
      "[2 0 0 1 2 0 2 2]\n",
      "[0 0 3 0 0 0 2 2]\n",
      "[2 0 2 1 3 0 0 3]\n",
      "[3 0 3 2 3 0 0 2]\n",
      "[2 2 2 0 2 3 2 2]\n",
      "[2 0 2 2 2 0 2 0]\n",
      "[1 2 2 2 3 2 1 0]\n",
      "[3 3 0 1 0 1 3 0]\n",
      "[0 2 0 2 2 2 2 2]\n",
      "[2 2 0 0 2 0 2 2]\n",
      "[2 0 2 2 3 2 0 2]\n",
      "[2 2 0 3 2 0 1 2]\n",
      "[2 3 0 2 2 3 2 3]\n",
      "[3 3 0 1 2 2 2 0]\n",
      "[2 1 0 2 1 2 2 2]\n",
      "[1 2 2 0 2 0 2 2]\n",
      "[3 2 3 3 2 1 2 2]\n",
      "[0 0 2 2 0 1 0 2]\n",
      "[2 2 2 2 1 0 0 2]\n",
      "[2 2 2 2 0 3 2 2]\n",
      "[2 0 0 0 2 1 0 0]\n",
      "[2 3 2 2 2 3 2 2]\n",
      "[2 0 0 0 0 0 3 0]\n",
      "[0 2 0 2 2 0 2 0]\n",
      "[0 1 2 2 2 2 0 3]\n",
      "[2 0 2 2 2 2 0 3]\n",
      "[2 3 2 0 0 3 2 2]\n",
      "[3 2 3 2 2 2 1 2]\n",
      "[2 2 2 0 2 2 2 3]\n",
      "[2 2 1 2 1 2 0 0]\n",
      "[0 0 0 3 2 3 0 2]\n",
      "[3 0 3 3 2 2 1 0]\n",
      "[0 0 2 2 0 0 2 1]\n",
      "[0 2 2 2 2 2 2 3]\n",
      "[2 1 1 3 0 2 2 2]\n",
      "[0 1 3 1 1 0 3]\n",
      "Epoch 1/10 |  val  |  Loss: 1.3914 Acc: 0.5360\n",
      "Train Epoch: 1 [0/1497 (0%)]\tLoss: 1.012522\n",
      "Train Epoch: 1 [80/1497 (5%)]\tLoss: 1.528530\n",
      "Train Epoch: 1 [160/1497 (11%)]\tLoss: 0.776151\n",
      "Train Epoch: 1 [240/1497 (16%)]\tLoss: 0.776156\n",
      "Train Epoch: 1 [320/1497 (21%)]\tLoss: 0.505316\n",
      "Train Epoch: 1 [400/1497 (27%)]\tLoss: 1.215462\n",
      "Train Epoch: 1 [480/1497 (32%)]\tLoss: 0.742416\n",
      "Train Epoch: 1 [560/1497 (37%)]\tLoss: 0.985781\n"
     ]
    },
    {
     "name": "stderr",
     "output_type": "stream",
     "text": [
      "wandb: Network error (ReadTimeout), entering retry loop.\n"
     ]
    },
    {
     "name": "stdout",
     "output_type": "stream",
     "text": [
      "Train Epoch: 1 [640/1497 (43%)]\tLoss: 1.304337\n",
      "Train Epoch: 1 [720/1497 (48%)]\tLoss: 0.987195\n",
      "Train Epoch: 1 [800/1497 (53%)]\tLoss: 0.618266\n",
      "Train Epoch: 1 [880/1497 (59%)]\tLoss: 1.323364\n",
      "Train Epoch: 1 [960/1497 (64%)]\tLoss: 0.728942\n",
      "Train Epoch: 1 [1040/1497 (69%)]\tLoss: 1.092866\n",
      "Train Epoch: 1 [1120/1497 (74%)]\tLoss: 1.460201\n",
      "Train Epoch: 1 [1200/1497 (80%)]\tLoss: 0.712858\n",
      "Train Epoch: 1 [1280/1497 (85%)]\tLoss: 0.879399\n",
      "Train Epoch: 1 [1360/1497 (90%)]\tLoss: 0.717871\n",
      "Train Epoch: 1 [1440/1497 (96%)]\tLoss: 0.995831\n",
      "Epoch 2/10 | train |  Loss: 0.9958 Acc: 0.5912\n",
      "[2 0 2 3 1 2 0 0]\n",
      "[3 2 0 2 0 2 2 2]\n",
      "[2 2 2 3 1 1 0 0]\n",
      "[3 2 2 1 0 2 0 2]\n",
      "[2 0 3 2 2 1 2 0]\n",
      "[2 0 0 2 2 0 2 2]\n",
      "[2 2 2 2 1 2 0 2]\n",
      "[0 2 2 3 1 2 0 1]\n",
      "[2 2 3 3 1 1 1 2]\n",
      "[2 2 1 0 0 2 3 0]\n",
      "[2 1 2 2 3 2 2 2]\n",
      "[2 1 1 1 2 0 2 2]\n",
      "[0 0 3 0 1 1 2 2]\n",
      "[2 1 2 1 3 1 0 2]\n",
      "[3 0 1 1 2 0 0 2]\n",
      "[2 2 2 0 2 3 2 2]\n",
      "[2 0 3 2 2 0 2 0]\n",
      "[1 2 2 2 3 2 0 0]\n",
      "[3 3 0 0 0 0 3 0]\n",
      "[0 2 1 2 2 2 2 2]\n",
      "[2 1 0 0 2 0 2 2]\n",
      "[2 0 2 2 3 2 0 3]\n",
      "[2 2 0 3 0 0 0 2]\n",
      "[3 3 0 2 2 3 2 1]\n",
      "[3 1 1 0 2 2 2 0]\n",
      "[2 1 0 2 1 2 2 2]\n",
      "[1 2 1 1 2 0 2 2]\n",
      "[3 2 3 2 2 0 2 2]\n",
      "[0 0 3 2 0 1 0 2]\n",
      "[2 2 2 2 1 0 0 2]\n",
      "[3 2 2 2 0 2 2 2]\n",
      "[3 0 0 3 2 1 0 1]\n",
      "[2 0 2 2 2 3 2 2]\n",
      "[2 0 0 0 0 0 3 0]\n",
      "[0 2 0 2 2 0 2 0]\n",
      "[0 1 2 2 2 1 0 3]\n",
      "[2 0 2 2 2 2 0 3]\n",
      "[3 3 2 1 1 3 2 2]\n",
      "[0 2 3 2 2 2 1 2]\n",
      "[2 2 0 1 2 2 2 3]\n",
      "[2 2 1 2 1 2 0 0]\n",
      "[0 0 0 1 2 3 1 2]\n",
      "[2 0 0 3 2 2 1 0]\n",
      "[1 0 1 2 0 3 0 1]\n",
      "[0 2 2 1 2 2 2 3]\n",
      "[2 1 1 3 0 2 1 2]\n",
      "[0 0 3 1 1 0 1]\n",
      "Epoch 2/10 |  val  |  Loss: 0.0665 Acc: 0.5973\n",
      "Train Epoch: 2 [0/1497 (0%)]\tLoss: 0.369731\n",
      "Train Epoch: 2 [80/1497 (5%)]\tLoss: 1.220188\n",
      "Train Epoch: 2 [160/1497 (11%)]\tLoss: 0.618777\n",
      "Train Epoch: 2 [240/1497 (16%)]\tLoss: 0.948077\n",
      "Train Epoch: 2 [320/1497 (21%)]\tLoss: 0.733813\n",
      "Train Epoch: 2 [400/1497 (27%)]\tLoss: 0.817890\n",
      "Train Epoch: 2 [480/1497 (32%)]\tLoss: 0.892934\n",
      "Train Epoch: 2 [560/1497 (37%)]\tLoss: 0.904836\n",
      "Train Epoch: 2 [640/1497 (43%)]\tLoss: 0.854010\n",
      "Train Epoch: 2 [720/1497 (48%)]\tLoss: 0.877479\n",
      "Train Epoch: 2 [800/1497 (53%)]\tLoss: 1.181994\n",
      "Train Epoch: 2 [880/1497 (59%)]\tLoss: 1.058803\n",
      "Train Epoch: 2 [960/1497 (64%)]\tLoss: 1.322993\n",
      "Train Epoch: 2 [1040/1497 (69%)]\tLoss: 0.842050\n",
      "Train Epoch: 2 [1120/1497 (74%)]\tLoss: 0.631258\n",
      "Train Epoch: 2 [1200/1497 (80%)]\tLoss: 1.087996\n",
      "Train Epoch: 2 [1280/1497 (85%)]\tLoss: 0.429921\n",
      "Train Epoch: 2 [1360/1497 (90%)]\tLoss: 1.071854\n",
      "Train Epoch: 2 [1440/1497 (96%)]\tLoss: 0.802184\n",
      "Epoch 3/10 | train |  Loss: 0.8864 Acc: 0.6266\n",
      "[2 1 2 3 0 2 0 0]\n",
      "[3 1 1 3 0 2 2 2]\n",
      "[2 2 2 3 1 1 0 0]\n",
      "[3 2 2 1 0 3 0 0]\n",
      "[2 0 3 2 2 1 1 0]\n",
      "[2 0 0 3 3 0 1 2]\n",
      "[2 2 2 2 1 1 1 2]\n",
      "[0 2 2 3 3 2 0 1]\n",
      "[3 2 3 3 0 1 1 3]\n",
      "[2 3 1 0 0 1 3 0]\n",
      "[2 0 3 1 3 2 2 1]\n",
      "[2 1 3 1 1 0 1 2]\n",
      "[0 0 0 0 1 1 2 2]\n",
      "[2 0 2 0 3 1 0 1]\n",
      "[3 0 3 1 3 0 0 3]\n",
      "[2 2 2 0 2 3 3 3]\n",
      "[2 0 3 3 2 0 1 0]\n",
      "[1 2 2 1 3 2 0 0]\n",
      "[3 3 0 0 0 1 3 0]\n",
      "[0 2 0 2 2 2 2 3]\n",
      "[2 0 0 0 3 0 2 2]\n",
      "[1 0 2 2 3 2 0 3]\n",
      "[2 2 0 3 0 0 0 2]\n",
      "[3 3 0 3 2 1 2 1]\n",
      "[3 1 1 0 2 2 2 0]\n",
      "[3 1 0 2 1 2 2 2]\n",
      "[0 2 1 1 2 0 2 1]\n",
      "[3 2 0 3 1 0 3 2]\n",
      "[0 0 3 3 0 1 0 2]\n",
      "[2 3 2 2 1 0 0 3]\n",
      "[3 3 3 1 0 3 2 2]\n",
      "[3 0 0 3 2 1 3 0]\n",
      "[2 1 2 2 2 1 2 2]\n",
      "[2 0 0 0 0 0 1 1]\n",
      "[0 2 1 3 2 0 3 0]\n",
      "[1 0 2 1 1 1 0 3]\n",
      "[3 0 1 2 1 2 0 3]\n",
      "[3 3 2 1 3 3 2 2]\n",
      "[1 3 0 2 2 2 0 2]\n",
      "[2 2 0 1 2 3 1 3]\n",
      "[2 1 1 2 1 3 0 0]\n",
      "[0 0 0 1 2 3 1 2]\n",
      "[1 0 0 3 2 2 2 0]\n",
      "[1 0 0 1 0 3 0 3]\n",
      "[0 2 2 1 3 2 1 3]\n",
      "[2 0 0 3 0 1 1 1]\n",
      "[0 0 3 1 1 0 1]\n",
      "Epoch 3/10 |  val  |  Loss: 2.2232 Acc: 0.6667\n",
      "Train Epoch: 3 [0/1497 (0%)]\tLoss: 0.999191\n",
      "Train Epoch: 3 [80/1497 (5%)]\tLoss: 1.000013\n",
      "Train Epoch: 3 [160/1497 (11%)]\tLoss: 0.754175\n",
      "Train Epoch: 3 [240/1497 (16%)]\tLoss: 0.672535\n",
      "Train Epoch: 3 [320/1497 (21%)]\tLoss: 0.378176\n",
      "Train Epoch: 3 [400/1497 (27%)]\tLoss: 0.518711\n",
      "Train Epoch: 3 [480/1497 (32%)]\tLoss: 0.809208\n",
      "Train Epoch: 3 [560/1497 (37%)]\tLoss: 1.242533\n",
      "Train Epoch: 3 [640/1497 (43%)]\tLoss: 0.610085\n",
      "Train Epoch: 3 [720/1497 (48%)]\tLoss: 0.932936\n",
      "Train Epoch: 3 [800/1497 (53%)]\tLoss: 0.654032\n",
      "Train Epoch: 3 [880/1497 (59%)]\tLoss: 0.692508\n",
      "Train Epoch: 3 [960/1497 (64%)]\tLoss: 0.795589\n",
      "Train Epoch: 3 [1040/1497 (69%)]\tLoss: 0.564721\n",
      "Train Epoch: 3 [1120/1497 (74%)]\tLoss: 0.501395\n",
      "Train Epoch: 3 [1200/1497 (80%)]\tLoss: 0.880657\n",
      "Train Epoch: 3 [1280/1497 (85%)]\tLoss: 1.263772\n",
      "Train Epoch: 3 [1360/1497 (90%)]\tLoss: 0.604286\n",
      "Train Epoch: 3 [1440/1497 (96%)]\tLoss: 0.401276\n",
      "Epoch 4/10 | train |  Loss: 0.7966 Acc: 0.6900\n",
      "[2 1 2 3 1 2 0 0]\n",
      "[3 3 1 3 0 2 2 2]\n",
      "[2 2 2 3 1 1 1 1]\n",
      "[3 2 2 1 0 3 1 2]\n",
      "[2 0 3 2 2 1 1 0]\n",
      "[2 0 0 2 3 0 2 2]\n",
      "[2 2 2 2 1 2 1 2]\n",
      "[0 2 2 3 1 2 0 1]\n",
      "[3 2 3 1 1 1 1 3]\n",
      "[2 3 1 0 1 2 1 1]\n",
      "[2 1 3 2 3 2 2 1]\n",
      "[2 1 1 1 1 1 2 2]\n",
      "[1 0 3 0 1 1 2 2]\n",
      "[2 1 2 1 3 1 1 1]\n",
      "[3 0 3 1 3 0 0 3]\n",
      "[2 2 2 0 2 3 3 3]\n",
      "[2 0 3 3 2 0 2 1]\n",
      "[1 2 2 2 3 2 1 0]\n",
      "[3 3 0 1 0 1 3 0]\n",
      "[0 2 1 2 2 2 2 3]\n",
      "[2 1 1 1 3 0 2 1]\n",
      "[3 0 2 2 3 2 0 3]\n",
      "[2 2 1 3 1 0 1 2]\n",
      "[3 3 1 3 2 1 2 1]\n",
      "[3 1 1 1 3 2 2 0]\n",
      "[3 1 0 2 1 2 2 2]\n",
      "[1 2 1 1 2 1 3 3]\n",
      "[3 2 1 1 2 1 2 2]\n",
      "[0 0 3 3 0 1 0 2]\n",
      "[2 3 2 2 1 0 0 3]\n",
      "[3 3 3 3 0 3 2 2]\n",
      "[3 0 0 3 2 1 0 1]\n",
      "[2 1 2 2 2 1 2 2]\n",
      "[3 0 0 0 1 0 1 1]\n",
      "[1 2 1 3 2 0 3 0]\n",
      "[1 1 2 2 1 1 0 3]\n",
      "[3 0 1 2 1 2 0 3]\n",
      "[3 3 2 1 1 3 2 2]\n",
      "[1 3 3 2 2 2 1 2]\n",
      "[2 2 0 1 2 3 1 3]\n",
      "[2 1 1 2 1 3 1 1]\n",
      "[0 0 1 1 2 3 1 2]\n",
      "[2 0 1 3 2 2 2 0]\n",
      "[1 1 1 1 0 3 1 3]\n",
      "[1 2 2 1 3 2 1 3]\n",
      "[2 1 3 3 0 1 1 2]\n",
      "[0 1 1 1 1 0 1]\n",
      "Epoch 4/10 |  val  |  Loss: 3.4355 Acc: 0.6400\n",
      "Train Epoch: 4 [0/1497 (0%)]\tLoss: 0.528920\n",
      "Train Epoch: 4 [80/1497 (5%)]\tLoss: 1.448070\n",
      "Train Epoch: 4 [160/1497 (11%)]\tLoss: 0.267336\n",
      "Train Epoch: 4 [240/1497 (16%)]\tLoss: 0.375438\n",
      "Train Epoch: 4 [320/1497 (21%)]\tLoss: 0.357660\n",
      "Train Epoch: 4 [400/1497 (27%)]\tLoss: 0.929620\n",
      "Train Epoch: 4 [480/1497 (32%)]\tLoss: 0.719687\n",
      "Train Epoch: 4 [560/1497 (37%)]\tLoss: 0.460628\n",
      "Train Epoch: 4 [640/1497 (43%)]\tLoss: 0.773001\n",
      "Train Epoch: 4 [720/1497 (48%)]\tLoss: 0.817625\n",
      "Train Epoch: 4 [800/1497 (53%)]\tLoss: 0.698847\n",
      "Train Epoch: 4 [880/1497 (59%)]\tLoss: 0.855880\n",
      "Train Epoch: 4 [960/1497 (64%)]\tLoss: 0.327614\n",
      "Train Epoch: 4 [1040/1497 (69%)]\tLoss: 0.896178\n",
      "Train Epoch: 4 [1120/1497 (74%)]\tLoss: 0.985713\n",
      "Train Epoch: 4 [1200/1497 (80%)]\tLoss: 0.854417\n",
      "Train Epoch: 4 [1280/1497 (85%)]\tLoss: 0.512988\n",
      "Train Epoch: 4 [1360/1497 (90%)]\tLoss: 1.215835\n",
      "Train Epoch: 4 [1440/1497 (96%)]\tLoss: 0.701163\n",
      "Epoch 5/10 | train |  Loss: 0.7420 Acc: 0.6994\n",
      "[0 1 2 0 0 1 0 0]\n",
      "[0 1 0 0 0 2 3 3]\n",
      "[2 0 2 3 1 1 0 0]\n",
      "[3 3 2 0 0 1 0 0]\n",
      "[2 0 0 0 2 1 0 0]\n",
      "[2 0 0 0 2 0 3 2]\n",
      "[3 2 2 2 1 2 1 2]\n",
      "[0 2 1 3 1 0 0 1]\n",
      "[3 2 3 1 1 1 0 3]\n",
      "[2 3 1 0 0 1 3 0]\n",
      "[3 0 1 0 3 2 2 0]\n",
      "[2 1 0 0 1 0 0 2]\n",
      "[0 0 0 0 1 1 2 2]\n",
      "[2 0 0 0 0 0 0 1]\n",
      "[0 0 0 0 0 0 0 3]\n",
      "[3 3 0 0 0 3 0 3]\n",
      "[2 0 3 1 2 0 0 0]\n",
      "[1 1 2 1 3 2 0 0]\n",
      "[0 0 0 0 0 0 3 0]\n",
      "[0 3 0 2 0 2 2 3]\n",
      "[2 0 0 0 2 0 2 0]\n",
      "[0 0 2 2 3 2 0 3]\n",
      "[2 2 0 3 0 0 0 2]\n",
      "[3 0 0 3 2 0 2 0]\n",
      "[3 1 1 0 3 2 2 0]\n",
      "[1 0 0 2 1 2 2 2]\n",
      "[1 2 1 1 0 0 2 0]\n",
      "[3 2 0 1 1 0 2 2]\n",
      "[0 0 3 3 0 0 0 2]\n",
      "[2 3 2 2 0 0 0 2]\n",
      "[0 3 3 1 0 3 2 0]\n",
      "[3 0 0 0 0 1 0 0]\n",
      "[2 1 2 2 2 1 2 2]\n",
      "[2 0 0 0 1 0 1 0]\n",
      "[0 3 1 3 2 1 3 0]\n",
      "[1 2 2 3 1 1 0 3]\n",
      "[0 0 1 2 0 2 0 0]\n",
      "[0 3 2 1 1 3 2 2]\n",
      "[1 3 0 2 2 2 0 2]\n",
      "[2 2 0 1 2 0 0 3]\n",
      "[2 0 1 2 1 3 0 0]\n",
      "[0 0 0 1 2 0 1 2]\n",
      "[1 0 0 3 2 2 2 0]\n",
      "[1 1 0 1 0 0 0 0]\n",
      "[0 2 2 0 3 2 1 3]\n",
      "[2 1 0 3 0 0 1 3]\n",
      "[0 0 3 1 1 0 1]\n",
      "Epoch 5/10 |  val  |  Loss: 0.2192 Acc: 0.5973\n",
      "Train Epoch: 5 [0/1497 (0%)]\tLoss: 1.098656\n",
      "Train Epoch: 5 [80/1497 (5%)]\tLoss: 0.491091\n",
      "Train Epoch: 5 [160/1497 (11%)]\tLoss: 1.064088\n",
      "Train Epoch: 5 [240/1497 (16%)]\tLoss: 0.786659\n",
      "Train Epoch: 5 [320/1497 (21%)]\tLoss: 0.393591\n",
      "Train Epoch: 5 [400/1497 (27%)]\tLoss: 1.013279\n",
      "Train Epoch: 5 [480/1497 (32%)]\tLoss: 0.247374\n",
      "Train Epoch: 5 [560/1497 (37%)]\tLoss: 0.873777\n",
      "Train Epoch: 5 [640/1497 (43%)]\tLoss: 0.710637\n",
      "Train Epoch: 5 [720/1497 (48%)]\tLoss: 0.362307\n",
      "Train Epoch: 5 [800/1497 (53%)]\tLoss: 0.359956\n",
      "Train Epoch: 5 [880/1497 (59%)]\tLoss: 1.356803\n",
      "Train Epoch: 5 [960/1497 (64%)]\tLoss: 0.472852\n",
      "Train Epoch: 5 [1040/1497 (69%)]\tLoss: 0.627840\n",
      "Train Epoch: 5 [1120/1497 (74%)]\tLoss: 0.676991\n",
      "Train Epoch: 5 [1200/1497 (80%)]\tLoss: 1.299358\n",
      "Train Epoch: 5 [1280/1497 (85%)]\tLoss: 0.372035\n",
      "Train Epoch: 5 [1360/1497 (90%)]\tLoss: 1.476411\n",
      "Train Epoch: 5 [1440/1497 (96%)]\tLoss: 0.538279\n",
      "Epoch 6/10 | train |  Loss: 0.6259 Acc: 0.7562\n",
      "[2 0 2 0 2 2 0 0]\n",
      "[3 2 0 2 0 2 2 2]\n",
      "[2 2 2 2 3 1 0 0]\n",
      "[3 2 2 2 0 2 2 0]\n",
      "[2 0 2 2 2 1 1 0]\n",
      "[2 0 0 2 2 0 2 2]\n",
      "[2 2 2 2 3 2 0 2]\n",
      "[0 2 2 2 3 2 0 2]\n",
      "[2 2 3 3 2 3 3 2]\n",
      "[2 2 3 0 0 2 3 0]\n",
      "[2 0 3 0 2 2 2 0]\n",
      "[0 1 3 2 2 2 2 2]\n",
      "[0 0 2 0 1 1 2 2]\n",
      "[2 3 2 0 0 0 0 2]\n",
      "[3 0 3 1 2 0 0 2]\n",
      "[2 2 2 0 2 2 2 2]\n",
      "[2 0 3 2 2 0 2 0]\n",
      "[2 2 2 2 2 2 3 0]\n",
      "[2 3 0 2 0 1 0 0]\n",
      "[0 2 0 2 2 2 2 2]\n",
      "[2 0 0 0 2 0 2 2]\n",
      "[2 0 2 2 3 2 0 2]\n",
      "[2 2 0 2 0 0 2 2]\n",
      "[2 0 0 2 2 0 2 2]\n",
      "[3 3 0 2 2 2 2 0]\n",
      "[2 1 0 2 1 2 2 0]\n",
      "[2 2 2 1 2 3 2 2]\n",
      "[3 2 3 2 2 0 2 2]\n",
      "[0 0 3 2 0 2 0 2]\n",
      "[2 2 2 2 3 0 0 3]\n",
      "[3 2 2 2 0 2 2 2]\n",
      "[2 0 0 0 2 2 0 2]\n",
      "[2 0 2 2 2 1 2 2]\n",
      "[2 0 0 0 0 0 1 0]\n",
      "[0 2 1 2 2 0 2 0]\n",
      "[3 2 2 2 2 2 0 2]\n",
      "[2 0 2 2 2 2 0 2]\n",
      "[2 0 2 3 0 2 2 2]\n",
      "[3 2 0 2 2 2 0 2]\n",
      "[2 2 2 2 2 2 2 3]\n",
      "[2 2 1 2 3 2 0 0]\n",
      "[0 0 0 1 2 0 1 2]\n",
      "[2 0 0 2 2 2 2 0]\n",
      "[1 1 0 2 0 3 0 0]\n",
      "[0 2 2 3 2 2 2 2]\n",
      "[2 2 0 2 0 2 1 2]\n",
      "[0 0 2 0 2 0 3]\n",
      "Epoch 6/10 |  val  |  Loss: 0.0900 Acc: 0.5227\n",
      "Train Epoch: 6 [0/1497 (0%)]\tLoss: 0.376462\n",
      "Train Epoch: 6 [80/1497 (5%)]\tLoss: 0.676588\n",
      "Train Epoch: 6 [160/1497 (11%)]\tLoss: 0.843135\n",
      "Train Epoch: 6 [240/1497 (16%)]\tLoss: 0.775132\n",
      "Train Epoch: 6 [320/1497 (21%)]\tLoss: 0.290902\n",
      "Train Epoch: 6 [400/1497 (27%)]\tLoss: 1.072545\n",
      "Train Epoch: 6 [480/1497 (32%)]\tLoss: 0.799539\n",
      "Train Epoch: 6 [560/1497 (37%)]\tLoss: 0.382372\n",
      "Train Epoch: 6 [640/1497 (43%)]\tLoss: 0.221919\n",
      "Train Epoch: 6 [720/1497 (48%)]\tLoss: 0.813340\n",
      "Train Epoch: 6 [800/1497 (53%)]\tLoss: 0.965281\n",
      "Train Epoch: 6 [880/1497 (59%)]\tLoss: 0.580516\n",
      "Train Epoch: 6 [960/1497 (64%)]\tLoss: 1.187193\n",
      "Train Epoch: 6 [1040/1497 (69%)]\tLoss: 0.420560\n",
      "Train Epoch: 6 [1120/1497 (74%)]\tLoss: 0.320906\n",
      "Train Epoch: 6 [1200/1497 (80%)]\tLoss: 0.641606\n",
      "Train Epoch: 6 [1280/1497 (85%)]\tLoss: 0.898713\n",
      "Train Epoch: 6 [1360/1497 (90%)]\tLoss: 0.350881\n",
      "Train Epoch: 6 [1440/1497 (96%)]\tLoss: 0.747361\n",
      "Epoch 7/10 | train |  Loss: 0.5922 Acc: 0.7722\n",
      "[2 3 2 3 2 2 3 0]\n",
      "[3 2 1 3 3 2 3 3]\n",
      "[3 2 2 3 1 1 0 3]\n",
      "[3 2 2 2 0 3 2 2]\n",
      "[2 0 3 3 2 1 3 2]\n",
      "[2 0 0 2 3 0 2 2]\n",
      "[2 2 2 2 1 2 1 2]\n",
      "[0 2 2 3 3 2 0 1]\n",
      "[3 1 3 3 1 1 3 3]\n",
      "[2 3 1 0 2 2 3 1]\n",
      "[2 3 3 2 3 2 2 2]\n",
      "[3 1 3 3 2 0 2 2]\n",
      "[3 0 2 0 1 1 2 2]\n",
      "[2 3 1 3 3 3 0 1]\n",
      "[3 0 3 3 3 1 0 3]\n",
      "[3 2 2 0 2 3 3 3]\n",
      "[2 0 3 3 2 0 2 1]\n",
      "[1 2 2 2 3 2 3 0]\n",
      "[3 3 0 2 0 3 3 0]\n",
      "[0 3 3 2 2 2 2 3]\n",
      "[2 2 3 3 3 3 2 2]\n",
      "[3 0 2 2 3 3 3 3]\n",
      "[2 2 0 3 2 0 2 2]\n",
      "[3 3 3 2 2 3 2 2]\n",
      "[3 3 1 1 3 2 2 0]\n",
      "[2 1 0 2 3 2 2 2]\n",
      "[1 2 2 1 2 3 2 2]\n",
      "[3 2 3 1 2 1 2 2]\n",
      "[3 0 3 3 0 1 0 2]\n",
      "[2 3 2 2 3 0 0 3]\n",
      "[3 3 3 3 0 3 2 2]\n",
      "[3 0 0 3 2 2 0 1]\n",
      "[2 1 2 2 2 1 2 2]\n",
      "[2 0 3 0 0 0 3 3]\n",
      "[0 2 1 3 2 3 3 0]\n",
      "[1 2 2 2 1 2 0 3]\n",
      "[3 0 1 2 1 2 0 3]\n",
      "[3 3 3 3 3 3 2 2]\n",
      "[1 3 3 2 2 2 3 2]\n",
      "[2 2 2 1 2 3 2 3]\n",
      "[2 2 1 2 3 2 0 0]\n",
      "[0 0 2 1 2 3 1 2]\n",
      "[2 0 3 3 2 2 2 0]\n",
      "[3 1 3 1 0 3 3 3]\n",
      "[3 2 2 1 2 2 2 3]\n",
      "[2 1 3 3 0 1 1 2]\n",
      "[0 3 3 3 1 0 1]\n",
      "Epoch 7/10 |  val  |  Loss: 0.4986 Acc: 0.6133\n",
      "Train Epoch: 7 [0/1497 (0%)]\tLoss: 0.978341\n",
      "Train Epoch: 7 [80/1497 (5%)]\tLoss: 0.652597\n",
      "Train Epoch: 7 [160/1497 (11%)]\tLoss: 0.478595\n",
      "Train Epoch: 7 [240/1497 (16%)]\tLoss: 0.116443\n",
      "Train Epoch: 7 [320/1497 (21%)]\tLoss: 0.471740\n",
      "Train Epoch: 7 [400/1497 (27%)]\tLoss: 0.266755\n",
      "Train Epoch: 7 [480/1497 (32%)]\tLoss: 1.243084\n",
      "Train Epoch: 7 [560/1497 (37%)]\tLoss: 0.653455\n",
      "Train Epoch: 7 [640/1497 (43%)]\tLoss: 0.658319\n",
      "Train Epoch: 7 [720/1497 (48%)]\tLoss: 0.821642\n",
      "Train Epoch: 7 [800/1497 (53%)]\tLoss: 0.531991\n",
      "Train Epoch: 7 [880/1497 (59%)]\tLoss: 0.486536\n",
      "Train Epoch: 7 [960/1497 (64%)]\tLoss: 0.588822\n",
      "Train Epoch: 7 [1040/1497 (69%)]\tLoss: 0.208473\n",
      "Train Epoch: 7 [1120/1497 (74%)]\tLoss: 0.411377\n",
      "Train Epoch: 7 [1200/1497 (80%)]\tLoss: 0.300302\n",
      "Train Epoch: 7 [1280/1497 (85%)]\tLoss: 0.490081\n",
      "Train Epoch: 7 [1360/1497 (90%)]\tLoss: 0.188375\n",
      "Train Epoch: 7 [1440/1497 (96%)]\tLoss: 0.836656\n",
      "Epoch 8/10 | train |  Loss: 0.4803 Acc: 0.8210\n",
      "[2 0 2 3 2 1 0 0]\n",
      "[3 2 0 3 0 2 3 3]\n",
      "[3 2 2 3 2 3 0 3]\n",
      "[3 2 2 2 0 2 2 2]\n",
      "[2 0 3 2 2 3 2 2]\n",
      "[2 0 0 2 3 0 2 2]\n",
      "[3 2 3 2 3 2 0 2]\n",
      "[0 2 2 3 3 2 0 3]\n",
      "[3 2 3 3 2 3 3 3]\n",
      "[2 3 3 0 0 2 3 0]\n",
      "[2 3 3 2 3 2 2 2]\n",
      "[1 1 0 2 2 0 2 2]\n",
      "[0 0 2 0 2 3 2 2]\n",
      "[2 2 2 0 3 1 0 3]\n",
      "[0 0 0 2 2 0 0 3]\n",
      "[2 2 2 0 2 2 3 3]\n",
      "[2 0 3 3 2 0 2 0]\n",
      "[2 2 2 2 3 2 0 0]\n",
      "[3 3 0 2 0 3 3 0]\n",
      "[0 3 3 2 2 2 2 3]\n",
      "[2 2 2 0 3 0 2 2]\n",
      "[2 0 2 2 3 2 0 3]\n",
      "[2 2 0 3 0 0 2 2]\n",
      "[3 3 0 2 2 0 3 2]\n",
      "[3 3 0 1 3 3 2 0]\n",
      "[2 1 0 2 1 2 2 2]\n",
      "[2 2 2 3 2 0 2 3]\n",
      "[3 2 0 2 2 2 2 2]\n",
      "[0 0 3 3 0 2 0 2]\n",
      "[2 3 2 2 0 0 0 3]\n",
      "[3 3 3 2 0 3 2 2]\n",
      "[3 0 0 3 2 2 0 3]\n",
      "[2 0 2 2 2 3 2 2]\n",
      "[3 0 0 0 0 0 1 0]\n",
      "[0 2 0 3 2 0 3 0]\n",
      "[3 2 2 2 2 2 0 3]\n",
      "[3 0 2 2 3 2 0 3]\n",
      "[3 0 2 3 0 3 2 2]\n",
      "[1 3 3 3 2 2 0 2]\n",
      "[2 2 2 2 2 3 2 3]\n",
      "[2 2 1 2 1 2 0 0]\n",
      "[0 0 2 2 2 0 3 2]\n",
      "[2 0 0 3 2 2 2 0]\n",
      "[1 1 0 2 0 3 1 0]\n",
      "[3 2 2 1 2 2 2 2]\n",
      "[2 1 2 3 0 2 1 3]\n",
      "[0 0 3 0 2 0 3]\n",
      "Epoch 8/10 |  val  |  Loss: 1.5392 Acc: 0.5813\n",
      "Train Epoch: 8 [0/1497 (0%)]\tLoss: 1.048743\n",
      "Train Epoch: 8 [80/1497 (5%)]\tLoss: 0.857311\n",
      "Train Epoch: 8 [160/1497 (11%)]\tLoss: 0.504659\n",
      "Train Epoch: 8 [240/1497 (16%)]\tLoss: 0.295623\n",
      "Train Epoch: 8 [320/1497 (21%)]\tLoss: 0.627303\n",
      "Train Epoch: 8 [400/1497 (27%)]\tLoss: 0.429639\n",
      "Train Epoch: 8 [480/1497 (32%)]\tLoss: 1.457092\n",
      "Train Epoch: 8 [560/1497 (37%)]\tLoss: 0.388349\n",
      "Train Epoch: 8 [640/1497 (43%)]\tLoss: 0.436055\n",
      "Train Epoch: 8 [720/1497 (48%)]\tLoss: 0.618972\n",
      "Train Epoch: 8 [800/1497 (53%)]\tLoss: 0.540921\n",
      "Train Epoch: 8 [880/1497 (59%)]\tLoss: 0.235735\n",
      "Train Epoch: 8 [960/1497 (64%)]\tLoss: 0.183845\n",
      "Train Epoch: 8 [1040/1497 (69%)]\tLoss: 0.562683\n",
      "Train Epoch: 8 [1120/1497 (74%)]\tLoss: 0.273427\n",
      "Train Epoch: 8 [1200/1497 (80%)]\tLoss: 0.862921\n",
      "Train Epoch: 8 [1280/1497 (85%)]\tLoss: 0.577187\n",
      "Train Epoch: 8 [1360/1497 (90%)]\tLoss: 0.478936\n",
      "Train Epoch: 8 [1440/1497 (96%)]\tLoss: 0.773630\n",
      "Epoch 9/10 | train |  Loss: 0.4798 Acc: 0.8223\n",
      "[2 3 2 3 2 1 3 0]\n",
      "[3 3 1 3 3 2 3 3]\n",
      "[3 1 2 3 3 3 3 3]\n",
      "[3 2 2 3 0 3 0 2]\n",
      "[3 3 3 1 2 3 1 3]\n",
      "[2 3 0 3 3 0 2 2]\n",
      "[3 1 3 2 3 2 1 3]\n",
      "[0 3 3 3 3 3 0 3]\n",
      "[3 2 3 1 3 3 1 3]\n",
      "[2 3 3 0 1 2 3 1]\n",
      "[3 3 3 1 3 2 3 0]\n",
      "[3 1 3 3 3 0 3 2]\n",
      "[3 3 3 3 1 1 2 1]\n",
      "[2 3 1 3 3 1 1 1]\n",
      "[3 0 3 3 3 0 0 3]\n",
      "[3 2 1 0 2 3 3 3]\n",
      "[2 0 3 1 2 0 3 1]\n",
      "[3 2 3 3 3 3 3 0]\n",
      "[3 3 0 3 0 1 3 0]\n",
      "[0 3 3 2 1 2 2 3]\n",
      "[2 1 3 3 3 3 1 2]\n",
      "[3 0 2 1 3 3 3 3]\n",
      "[2 2 3 3 1 0 3 2]\n",
      "[3 3 3 3 2 3 3 3]\n",
      "[3 3 3 1 3 3 2 0]\n",
      "[3 1 0 2 1 2 2 1]\n",
      "[1 1 2 3 2 3 3 3]\n",
      "[3 2 3 1 3 3 3 3]\n",
      "[3 0 3 3 3 3 3 3]\n",
      "[2 3 2 2 3 0 1 3]\n",
      "[3 3 3 3 0 3 2 1]\n",
      "[3 0 1 3 2 2 3 3]\n",
      "[1 1 1 2 2 1 2 2]\n",
      "[3 0 3 0 0 0 1 3]\n",
      "[3 2 1 3 3 3 3 0]\n",
      "[3 2 3 3 3 1 0 3]\n",
      "[3 0 1 2 1 2 0 3]\n",
      "[3 3 1 3 3 3 2 2]\n",
      "[3 3 3 3 1 3 3 2]\n",
      "[2 2 2 1 2 3 1 3]\n",
      "[2 3 1 3 3 3 3 0]\n",
      "[1 0 2 3 2 3 1 3]\n",
      "[2 0 1 3 2 2 3 0]\n",
      "[1 1 3 3 1 3 1 3]\n",
      "[3 2 2 1 3 2 1 3]\n",
      "[3 1 3 3 0 3 1 3]\n",
      "[0 3 3 3 3 0 3]\n",
      "Epoch 9/10 |  val  |  Loss: 1.4498 Acc: 0.5493\n",
      "Train Epoch: 9 [0/1497 (0%)]\tLoss: 0.583577\n",
      "Train Epoch: 9 [80/1497 (5%)]\tLoss: 0.344785\n",
      "Train Epoch: 9 [160/1497 (11%)]\tLoss: 0.424667\n",
      "Train Epoch: 9 [240/1497 (16%)]\tLoss: 0.483145\n",
      "Train Epoch: 9 [320/1497 (21%)]\tLoss: 0.171308\n",
      "Train Epoch: 9 [400/1497 (27%)]\tLoss: 0.075563\n",
      "Train Epoch: 9 [480/1497 (32%)]\tLoss: 0.032419\n",
      "Train Epoch: 9 [560/1497 (37%)]\tLoss: 1.212042\n",
      "Train Epoch: 9 [640/1497 (43%)]\tLoss: 0.178490\n",
      "Train Epoch: 9 [720/1497 (48%)]\tLoss: 0.141926\n",
      "Train Epoch: 9 [800/1497 (53%)]\tLoss: 0.223123\n",
      "Train Epoch: 9 [880/1497 (59%)]\tLoss: 0.330169\n",
      "Train Epoch: 9 [960/1497 (64%)]\tLoss: 0.132502\n",
      "Train Epoch: 9 [1040/1497 (69%)]\tLoss: 0.493583\n",
      "Train Epoch: 9 [1120/1497 (74%)]\tLoss: 0.222266\n",
      "Train Epoch: 9 [1200/1497 (80%)]\tLoss: 0.476862\n",
      "Train Epoch: 9 [1280/1497 (85%)]\tLoss: 0.553490\n",
      "Train Epoch: 9 [1360/1497 (90%)]\tLoss: 0.115240\n",
      "Train Epoch: 9 [1440/1497 (96%)]\tLoss: 0.557164\n",
      "Epoch 10/10 | train |  Loss: 0.3629 Acc: 0.8804\n",
      "[2 0 2 1 1 1 0 0]\n",
      "[3 2 1 3 0 1 2 2]\n",
      "[2 2 2 3 1 1 0 1]\n",
      "[3 2 2 3 0 1 0 2]\n",
      "[2 0 3 2 2 1 1 0]\n",
      "[2 0 0 2 3 0 2 2]\n",
      "[2 2 2 2 1 2 1 2]\n",
      "[0 2 2 2 3 2 0 1]\n",
      "[3 2 3 1 1 1 1 1]\n",
      "[2 3 1 0 0 2 3 1]\n",
      "[2 0 3 2 3 2 3 1]\n",
      "[1 1 1 3 2 0 2 2]\n",
      "[0 0 0 0 1 1 2 2]\n",
      "[2 1 1 1 1 1 0 1]\n",
      "[3 0 1 1 3 2 0 3]\n",
      "[2 2 2 0 2 3 3 2]\n",
      "[2 0 3 1 2 0 1 1]\n",
      "[3 2 2 2 2 2 1 0]\n",
      "[1 3 0 3 0 1 1 0]\n",
      "[0 2 0 2 2 2 2 2]\n",
      "[2 1 0 0 2 0 2 2]\n",
      "[3 0 2 2 1 1 3 3]\n",
      "[2 2 0 3 0 0 2 2]\n",
      "[3 3 0 2 2 1 2 3]\n",
      "[1 1 1 1 2 2 2 0]\n",
      "[2 1 0 2 1 2 2 2]\n",
      "[3 2 2 1 2 3 2 2]\n",
      "[1 2 1 1 2 1 2 2]\n",
      "[0 0 3 2 0 1 0 2]\n",
      "[2 3 2 2 1 0 0 3]\n",
      "[0 2 3 3 0 3 2 2]\n",
      "[3 0 0 3 2 3 0 2]\n",
      "[2 1 2 2 2 1 2 2]\n",
      "[2 0 0 0 0 0 1 0]\n",
      "[0 2 1 3 2 0 1 0]\n",
      "[1 2 2 2 2 1 0 3]\n",
      "[2 0 1 2 2 2 0 3]\n",
      "[3 1 2 1 0 3 2 2]\n",
      "[1 3 1 2 1 2 1 2]\n",
      "[2 2 0 1 2 3 2 1]\n",
      "[2 3 1 2 1 2 0 0]\n",
      "[0 0 0 1 2 1 1 2]\n",
      "[2 0 1 3 2 2 1 0]\n",
      "[1 1 1 1 0 3 2 3]\n",
      "[0 2 2 1 2 2 1 3]\n",
      "[2 1 2 3 0 2 1 3]\n",
      "[0 0 3 1 3 0 3]\n",
      "Epoch 10/10 |  val  |  Loss: 0.0009 Acc: 0.6640\n"
     ]
    }
   ],
   "source": [
    "from tqdm.notebook import tqdm\n",
    "import wandb\n",
    "wandb.login()\n",
    "\n",
    "device = torch.device('cuda:0' if torch.cuda.is_available() else 'cpu')\n",
    "\n",
    "wandb.init(\n",
    "    project=\"wavlm_SER\",\n",
    "    config={\n",
    "        \"pretrained_model\": 'patrickvonplaten/wavlm-libri-clean-100h-base-plus',\n",
    "        'dataset': 'IEMOCAP_balanced_subset_lthresh=100000',\n",
    "        \"epochs\": 10,\n",
    "        \"batch_size\": 8,\n",
    "        \"learning_rate\": 0.0001, \n",
    "        \"lr_scheduler_step\": 300,\n",
    "        \"lr_scheduler_step_unit\": 'batch_iter',\n",
    "        \"lr_scheduler_gamma\": 0.9,\n",
    "        \"all_parameters\": True\n",
    "        })\n",
    "config = wandb.config\n",
    "\n",
    "train_loader = DataLoader(train_dataset, batch_size=config[\"batch_size\"], shuffle=True, collate_fn=collate_fn)\n",
    "test_loader = DataLoader(val_dataset, batch_size=config[\"batch_size\"], shuffle=False, collate_fn=collate_fn)\n",
    "dataloaders_dict = {'train': train_loader, 'val': test_loader}\n",
    "\n",
    "# モデルの定義\n",
    "class SERwithWavLM(nn.Module):\n",
    "    def __init__(self, pretrained_model):\n",
    "        super().__init__()\n",
    "        self.wavlm_config = WavLMConfig(pretrained_model)\n",
    "        self.wavlm_config.update({'num_labels':4, 'use_weighted_layer_sum':True})\n",
    "        self.wavlm = WavLMForSequenceClassification.from_pretrained(pretrained_model, config=self.wavlm_config)\n",
    "    \n",
    "    def forward(self, inputs):\n",
    "        outputs = self.wavlm(**inputs[0], labels=inputs[1]) \n",
    "        logits = outputs.logits\n",
    "        loss = outputs.loss\n",
    "        \n",
    "        return logits, loss\n",
    "    \n",
    "def weights_init(m):\n",
    "    classname = m.__class__.__name__\n",
    "    if classname.find('Linear') != -1:\n",
    "        # Liner層の初期化\n",
    "        nn.init.kaiming_normal_(m.weight)\n",
    "        if m.bias is not None:\n",
    "            nn.init.constant_(m.bias, 0.0)\n",
    "            \n",
    "model = SERwithWavLM(config[\"pretrained_model\"])\n",
    "model.wavlm.classifier.apply(weights_init)\n",
    "model.to(device)\n",
    "\n",
    "'''param_to_update = []\n",
    "param_to_update_name = {}\n",
    "for name, param in model.named_parameters():\n",
    "    if 'classifier' in name:\n",
    "        print(name)\n",
    "        param.requires_grad = True\n",
    "        param_to_update.append(param)\n",
    "        param_to_update_name[f'{name}'] = 0.0001\n",
    "    else:\n",
    "        param.requires_grad = False'''\n",
    "\n",
    "'''wandb.config.update({\"updated_param\": param_to_update_name})'''\n",
    "\n",
    "optimizer = torch.optim.Adam(model.parameters(), lr=config['learning_rate'], weight_decay=0.0001)\n",
    "# scheduler = torch.optim.lr_scheduler.StepLR(optimizer, step_size=config[\"lr_scheduler_step\"], gamma=config[\"lr_scheduler_gamma\"]) \n",
    "\n",
    "num_epochs = config[\"epochs\"]\n",
    "\n",
    "model = train_model(model, dataloaders_dict, optimizer, None, num_epochs, log_interval=10)\n",
    "\n",
    "model_path = 'checkpoint/wavlm_IEMOCAP_5.pth'\n",
    "torch.save(model.state_dict(), model_path)"
   ]
  },
  {
   "cell_type": "code",
   "execution_count": null,
   "metadata": {},
   "outputs": [],
   "source": []
  }
 ],
 "metadata": {
  "accelerator": "GPU",
  "colab": {
   "collapsed_sections": [],
   "name": "wavlm_summary.ipynb",
   "provenance": []
  },
  "kernelspec": {
   "display_name": "Python 3 (ipykernel)",
   "language": "python",
   "name": "python3"
  },
  "language_info": {
   "codemirror_mode": {
    "name": "ipython",
    "version": 3
   },
   "file_extension": ".py",
   "mimetype": "text/x-python",
   "name": "python",
   "nbconvert_exporter": "python",
   "pygments_lexer": "ipython3",
   "version": "3.8.8"
  },
  "widgets": {
   "application/vnd.jupyter.widget-state+json": {
    "10bc24d58dd64baf9875951175d53cb7": {
     "model_module": "@jupyter-widgets/base",
     "model_module_version": "1.2.0",
     "model_name": "LayoutModel",
     "state": {
      "_model_module": "@jupyter-widgets/base",
      "_model_module_version": "1.2.0",
      "_model_name": "LayoutModel",
      "_view_count": null,
      "_view_module": "@jupyter-widgets/base",
      "_view_module_version": "1.2.0",
      "_view_name": "LayoutView",
      "align_content": null,
      "align_items": null,
      "align_self": null,
      "border": null,
      "bottom": null,
      "display": null,
      "flex": null,
      "flex_flow": null,
      "grid_area": null,
      "grid_auto_columns": null,
      "grid_auto_flow": null,
      "grid_auto_rows": null,
      "grid_column": null,
      "grid_gap": null,
      "grid_row": null,
      "grid_template_areas": null,
      "grid_template_columns": null,
      "grid_template_rows": null,
      "height": null,
      "justify_content": null,
      "justify_items": null,
      "left": null,
      "margin": null,
      "max_height": null,
      "max_width": null,
      "min_height": null,
      "min_width": null,
      "object_fit": null,
      "object_position": null,
      "order": null,
      "overflow": null,
      "overflow_x": null,
      "overflow_y": null,
      "padding": null,
      "right": null,
      "top": null,
      "visibility": null,
      "width": null
     }
    },
    "13593a06989240bd8d2cca1d13d302c7": {
     "model_module": "@jupyter-widgets/controls",
     "model_module_version": "1.5.0",
     "model_name": "ProgressStyleModel",
     "state": {
      "_model_module": "@jupyter-widgets/controls",
      "_model_module_version": "1.5.0",
      "_model_name": "ProgressStyleModel",
      "_view_count": null,
      "_view_module": "@jupyter-widgets/base",
      "_view_module_version": "1.2.0",
      "_view_name": "StyleView",
      "bar_color": null,
      "description_width": ""
     }
    },
    "16931946ca934132bc47219683486303": {
     "model_module": "@jupyter-widgets/base",
     "model_module_version": "1.2.0",
     "model_name": "LayoutModel",
     "state": {
      "_model_module": "@jupyter-widgets/base",
      "_model_module_version": "1.2.0",
      "_model_name": "LayoutModel",
      "_view_count": null,
      "_view_module": "@jupyter-widgets/base",
      "_view_module_version": "1.2.0",
      "_view_name": "LayoutView",
      "align_content": null,
      "align_items": null,
      "align_self": null,
      "border": null,
      "bottom": null,
      "display": null,
      "flex": null,
      "flex_flow": null,
      "grid_area": null,
      "grid_auto_columns": null,
      "grid_auto_flow": null,
      "grid_auto_rows": null,
      "grid_column": null,
      "grid_gap": null,
      "grid_row": null,
      "grid_template_areas": null,
      "grid_template_columns": null,
      "grid_template_rows": null,
      "height": null,
      "justify_content": null,
      "justify_items": null,
      "left": null,
      "margin": null,
      "max_height": null,
      "max_width": null,
      "min_height": null,
      "min_width": null,
      "object_fit": null,
      "object_position": null,
      "order": null,
      "overflow": null,
      "overflow_x": null,
      "overflow_y": null,
      "padding": null,
      "right": null,
      "top": null,
      "visibility": null,
      "width": null
     }
    },
    "344d4d40846c48c5b23d1f2f004a6a2c": {
     "model_module": "@jupyter-widgets/controls",
     "model_module_version": "1.5.0",
     "model_name": "HTMLModel",
     "state": {
      "_dom_classes": [],
      "_model_module": "@jupyter-widgets/controls",
      "_model_module_version": "1.5.0",
      "_model_name": "HTMLModel",
      "_view_count": null,
      "_view_module": "@jupyter-widgets/controls",
      "_view_module_version": "1.5.0",
      "_view_name": "HTMLView",
      "description": "",
      "description_tooltip": null,
      "layout": "IPY_MODEL_f605ea8772394995828669527c9e39c7",
      "placeholder": "​",
      "style": "IPY_MODEL_deb1de98e25f4fb798c9d721e4dcca04",
      "value": " 0.8382352941176459/10 [00:59&lt;05:49, 38.20s/it]"
     }
    },
    "7a2585dcff9e46d2b3e429cdfe15251b": {
     "model_module": "@jupyter-widgets/controls",
     "model_module_version": "1.5.0",
     "model_name": "FloatProgressModel",
     "state": {
      "_dom_classes": [],
      "_model_module": "@jupyter-widgets/controls",
      "_model_module_version": "1.5.0",
      "_model_name": "FloatProgressModel",
      "_view_count": null,
      "_view_module": "@jupyter-widgets/controls",
      "_view_module_version": "1.5.0",
      "_view_name": "ProgressView",
      "bar_style": "danger",
      "description": "",
      "description_tooltip": null,
      "layout": "IPY_MODEL_10bc24d58dd64baf9875951175d53cb7",
      "max": 10,
      "min": 0,
      "orientation": "horizontal",
      "style": "IPY_MODEL_13593a06989240bd8d2cca1d13d302c7",
      "value": 0.8382352941176459
     }
    },
    "96817ccf7f694652a9ee52704bc833df": {
     "model_module": "@jupyter-widgets/base",
     "model_module_version": "1.2.0",
     "model_name": "LayoutModel",
     "state": {
      "_model_module": "@jupyter-widgets/base",
      "_model_module_version": "1.2.0",
      "_model_name": "LayoutModel",
      "_view_count": null,
      "_view_module": "@jupyter-widgets/base",
      "_view_module_version": "1.2.0",
      "_view_name": "LayoutView",
      "align_content": null,
      "align_items": null,
      "align_self": null,
      "border": null,
      "bottom": null,
      "display": null,
      "flex": null,
      "flex_flow": null,
      "grid_area": null,
      "grid_auto_columns": null,
      "grid_auto_flow": null,
      "grid_auto_rows": null,
      "grid_column": null,
      "grid_gap": null,
      "grid_row": null,
      "grid_template_areas": null,
      "grid_template_columns": null,
      "grid_template_rows": null,
      "height": null,
      "justify_content": null,
      "justify_items": null,
      "left": null,
      "margin": null,
      "max_height": null,
      "max_width": null,
      "min_height": null,
      "min_width": null,
      "object_fit": null,
      "object_position": null,
      "order": null,
      "overflow": null,
      "overflow_x": null,
      "overflow_y": null,
      "padding": null,
      "right": null,
      "top": null,
      "visibility": null,
      "width": null
     }
    },
    "9c25575c795c498dad30ddb60a54992f": {
     "model_module": "@jupyter-widgets/controls",
     "model_module_version": "1.5.0",
     "model_name": "HBoxModel",
     "state": {
      "_dom_classes": [],
      "_model_module": "@jupyter-widgets/controls",
      "_model_module_version": "1.5.0",
      "_model_name": "HBoxModel",
      "_view_count": null,
      "_view_module": "@jupyter-widgets/controls",
      "_view_module_version": "1.5.0",
      "_view_name": "HBoxView",
      "box_style": "",
      "children": [
       "IPY_MODEL_d2aad960f4e147c39bbf4e3486ae8abf",
       "IPY_MODEL_7a2585dcff9e46d2b3e429cdfe15251b",
       "IPY_MODEL_344d4d40846c48c5b23d1f2f004a6a2c"
      ],
      "layout": "IPY_MODEL_16931946ca934132bc47219683486303"
     }
    },
    "c2843e7055024ca59738182107150ae3": {
     "model_module": "@jupyter-widgets/controls",
     "model_module_version": "1.5.0",
     "model_name": "DescriptionStyleModel",
     "state": {
      "_model_module": "@jupyter-widgets/controls",
      "_model_module_version": "1.5.0",
      "_model_name": "DescriptionStyleModel",
      "_view_count": null,
      "_view_module": "@jupyter-widgets/base",
      "_view_module_version": "1.2.0",
      "_view_name": "StyleView",
      "description_width": ""
     }
    },
    "d2aad960f4e147c39bbf4e3486ae8abf": {
     "model_module": "@jupyter-widgets/controls",
     "model_module_version": "1.5.0",
     "model_name": "HTMLModel",
     "state": {
      "_dom_classes": [],
      "_model_module": "@jupyter-widgets/controls",
      "_model_module_version": "1.5.0",
      "_model_name": "HTMLModel",
      "_view_count": null,
      "_view_module": "@jupyter-widgets/controls",
      "_view_module_version": "1.5.0",
      "_view_name": "HTMLView",
      "description": "",
      "description_tooltip": null,
      "layout": "IPY_MODEL_96817ccf7f694652a9ee52704bc833df",
      "placeholder": "​",
      "style": "IPY_MODEL_c2843e7055024ca59738182107150ae3",
      "value": "  8%"
     }
    },
    "deb1de98e25f4fb798c9d721e4dcca04": {
     "model_module": "@jupyter-widgets/controls",
     "model_module_version": "1.5.0",
     "model_name": "DescriptionStyleModel",
     "state": {
      "_model_module": "@jupyter-widgets/controls",
      "_model_module_version": "1.5.0",
      "_model_name": "DescriptionStyleModel",
      "_view_count": null,
      "_view_module": "@jupyter-widgets/base",
      "_view_module_version": "1.2.0",
      "_view_name": "StyleView",
      "description_width": ""
     }
    },
    "f605ea8772394995828669527c9e39c7": {
     "model_module": "@jupyter-widgets/base",
     "model_module_version": "1.2.0",
     "model_name": "LayoutModel",
     "state": {
      "_model_module": "@jupyter-widgets/base",
      "_model_module_version": "1.2.0",
      "_model_name": "LayoutModel",
      "_view_count": null,
      "_view_module": "@jupyter-widgets/base",
      "_view_module_version": "1.2.0",
      "_view_name": "LayoutView",
      "align_content": null,
      "align_items": null,
      "align_self": null,
      "border": null,
      "bottom": null,
      "display": null,
      "flex": null,
      "flex_flow": null,
      "grid_area": null,
      "grid_auto_columns": null,
      "grid_auto_flow": null,
      "grid_auto_rows": null,
      "grid_column": null,
      "grid_gap": null,
      "grid_row": null,
      "grid_template_areas": null,
      "grid_template_columns": null,
      "grid_template_rows": null,
      "height": null,
      "justify_content": null,
      "justify_items": null,
      "left": null,
      "margin": null,
      "max_height": null,
      "max_width": null,
      "min_height": null,
      "min_width": null,
      "object_fit": null,
      "object_position": null,
      "order": null,
      "overflow": null,
      "overflow_x": null,
      "overflow_y": null,
      "padding": null,
      "right": null,
      "top": null,
      "visibility": null,
      "width": null
     }
    }
   }
  }
 },
 "nbformat": 4,
 "nbformat_minor": 4
}
